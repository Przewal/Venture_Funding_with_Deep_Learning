{
 "cells": [
  {
   "cell_type": "code",
   "execution_count": 1,
   "id": "d1a54d86-c743-4533-8250-29677710f814",
   "metadata": {
    "tags": []
   },
   "outputs": [],
   "source": [
    "# Initial imports\n",
    "import pandas as pd\n",
    "import numpy as np\n",
    "from sklearn.datasets import make_blobs, make_moons\n",
    "from sklearn.model_selection import train_test_split\n",
    "from sklearn.preprocessing import StandardScaler\n",
    "from tensorflow.keras.models import Sequential\n",
    "from tensorflow.keras.layers import Dense, Activation\n",
    "from sklearn.preprocessing import OneHotEncoder\n",
    "\n",
    "%matplotlib inline"
   ]
  },
  {
   "cell_type": "markdown",
   "id": "2e79c1e2-df89-4ae3-8a42-daea0f5372c0",
   "metadata": {},
   "source": [
    "##  Preparing the data to be used on a neural network model"
   ]
  },
  {
   "cell_type": "markdown",
   "id": "9fd69f90-1fca-4363-9342-5921a3e07059",
   "metadata": {},
   "source": [
    "* Reading the `applicants_data.csv` file into a Pandas DataFrame. \n",
    "* Reviewing the DataFrame, looking for categorical variables that will need to be encoded, as well as columns that could eventually define the features and target variables."
   ]
  },
  {
   "cell_type": "code",
   "execution_count": 2,
   "id": "db70af38-288b-4f4e-9970-28f240254ca9",
   "metadata": {
    "tags": []
   },
   "outputs": [
    {
     "data": {
      "text/html": [
       "<div>\n",
       "<style scoped>\n",
       "    .dataframe tbody tr th:only-of-type {\n",
       "        vertical-align: middle;\n",
       "    }\n",
       "\n",
       "    .dataframe tbody tr th {\n",
       "        vertical-align: top;\n",
       "    }\n",
       "\n",
       "    .dataframe thead th {\n",
       "        text-align: right;\n",
       "    }\n",
       "</style>\n",
       "<table border=\"1\" class=\"dataframe\">\n",
       "  <thead>\n",
       "    <tr style=\"text-align: right;\">\n",
       "      <th></th>\n",
       "      <th>EIN</th>\n",
       "      <th>NAME</th>\n",
       "      <th>APPLICATION_TYPE</th>\n",
       "      <th>AFFILIATION</th>\n",
       "      <th>CLASSIFICATION</th>\n",
       "      <th>USE_CASE</th>\n",
       "      <th>ORGANIZATION</th>\n",
       "      <th>STATUS</th>\n",
       "      <th>INCOME_AMT</th>\n",
       "      <th>SPECIAL_CONSIDERATIONS</th>\n",
       "      <th>ASK_AMT</th>\n",
       "      <th>IS_SUCCESSFUL</th>\n",
       "    </tr>\n",
       "  </thead>\n",
       "  <tbody>\n",
       "    <tr>\n",
       "      <th>0</th>\n",
       "      <td>10520599</td>\n",
       "      <td>BLUE KNIGHTS MOTORCYCLE CLUB</td>\n",
       "      <td>T10</td>\n",
       "      <td>Independent</td>\n",
       "      <td>C1000</td>\n",
       "      <td>ProductDev</td>\n",
       "      <td>Association</td>\n",
       "      <td>1</td>\n",
       "      <td>0</td>\n",
       "      <td>N</td>\n",
       "      <td>5000</td>\n",
       "      <td>1</td>\n",
       "    </tr>\n",
       "    <tr>\n",
       "      <th>1</th>\n",
       "      <td>10531628</td>\n",
       "      <td>AMERICAN CHESAPEAKE CLUB CHARITABLE TR</td>\n",
       "      <td>T3</td>\n",
       "      <td>Independent</td>\n",
       "      <td>C2000</td>\n",
       "      <td>Preservation</td>\n",
       "      <td>Co-operative</td>\n",
       "      <td>1</td>\n",
       "      <td>1-9999</td>\n",
       "      <td>N</td>\n",
       "      <td>108590</td>\n",
       "      <td>1</td>\n",
       "    </tr>\n",
       "    <tr>\n",
       "      <th>2</th>\n",
       "      <td>10547893</td>\n",
       "      <td>ST CLOUD PROFESSIONAL FIREFIGHTERS</td>\n",
       "      <td>T5</td>\n",
       "      <td>CompanySponsored</td>\n",
       "      <td>C3000</td>\n",
       "      <td>ProductDev</td>\n",
       "      <td>Association</td>\n",
       "      <td>1</td>\n",
       "      <td>0</td>\n",
       "      <td>N</td>\n",
       "      <td>5000</td>\n",
       "      <td>0</td>\n",
       "    </tr>\n",
       "    <tr>\n",
       "      <th>3</th>\n",
       "      <td>10553066</td>\n",
       "      <td>SOUTHSIDE ATHLETIC ASSOCIATION</td>\n",
       "      <td>T3</td>\n",
       "      <td>CompanySponsored</td>\n",
       "      <td>C2000</td>\n",
       "      <td>Preservation</td>\n",
       "      <td>Trust</td>\n",
       "      <td>1</td>\n",
       "      <td>10000-24999</td>\n",
       "      <td>N</td>\n",
       "      <td>6692</td>\n",
       "      <td>1</td>\n",
       "    </tr>\n",
       "    <tr>\n",
       "      <th>4</th>\n",
       "      <td>10556103</td>\n",
       "      <td>GENETIC RESEARCH INSTITUTE OF THE DESERT</td>\n",
       "      <td>T3</td>\n",
       "      <td>Independent</td>\n",
       "      <td>C1000</td>\n",
       "      <td>Heathcare</td>\n",
       "      <td>Trust</td>\n",
       "      <td>1</td>\n",
       "      <td>100000-499999</td>\n",
       "      <td>N</td>\n",
       "      <td>142590</td>\n",
       "      <td>1</td>\n",
       "    </tr>\n",
       "  </tbody>\n",
       "</table>\n",
       "</div>"
      ],
      "text/plain": [
       "        EIN                                      NAME APPLICATION_TYPE  \\\n",
       "0  10520599              BLUE KNIGHTS MOTORCYCLE CLUB              T10   \n",
       "1  10531628    AMERICAN CHESAPEAKE CLUB CHARITABLE TR               T3   \n",
       "2  10547893        ST CLOUD PROFESSIONAL FIREFIGHTERS               T5   \n",
       "3  10553066            SOUTHSIDE ATHLETIC ASSOCIATION               T3   \n",
       "4  10556103  GENETIC RESEARCH INSTITUTE OF THE DESERT               T3   \n",
       "\n",
       "        AFFILIATION CLASSIFICATION      USE_CASE  ORGANIZATION  STATUS  \\\n",
       "0       Independent          C1000    ProductDev   Association       1   \n",
       "1       Independent          C2000  Preservation  Co-operative       1   \n",
       "2  CompanySponsored          C3000    ProductDev   Association       1   \n",
       "3  CompanySponsored          C2000  Preservation         Trust       1   \n",
       "4       Independent          C1000     Heathcare         Trust       1   \n",
       "\n",
       "      INCOME_AMT SPECIAL_CONSIDERATIONS  ASK_AMT  IS_SUCCESSFUL  \n",
       "0              0                      N     5000              1  \n",
       "1         1-9999                      N   108590              1  \n",
       "2              0                      N     5000              0  \n",
       "3    10000-24999                      N     6692              1  \n",
       "4  100000-499999                      N   142590              1  "
      ]
     },
     "execution_count": 2,
     "metadata": {},
     "output_type": "execute_result"
    }
   ],
   "source": [
    "# Read the applicants_data.csv file into a Pandas DataFrame\n",
    "applicant_data_df = pd.read_csv(\"applicants_data.csv\")\n",
    "\n",
    "# Review the DataFrame\n",
    "applicant_data_df.head()"
   ]
  },
  {
   "cell_type": "code",
   "execution_count": 3,
   "id": "4c6db57a-163d-451a-af59-e4d7d0c0c7f7",
   "metadata": {
    "tags": []
   },
   "outputs": [
    {
     "data": {
      "text/plain": [
       "EIN                        int64\n",
       "NAME                      object\n",
       "APPLICATION_TYPE          object\n",
       "AFFILIATION               object\n",
       "CLASSIFICATION            object\n",
       "USE_CASE                  object\n",
       "ORGANIZATION              object\n",
       "STATUS                     int64\n",
       "INCOME_AMT                object\n",
       "SPECIAL_CONSIDERATIONS    object\n",
       "ASK_AMT                    int64\n",
       "IS_SUCCESSFUL              int64\n",
       "dtype: object"
      ]
     },
     "execution_count": 3,
     "metadata": {},
     "output_type": "execute_result"
    }
   ],
   "source": [
    "# Review the data types associated with the columns\n",
    "applicant_data_df.dtypes"
   ]
  },
  {
   "cell_type": "markdown",
   "id": "6891c7dd-06f1-4457-83c0-aae4120cde40",
   "metadata": {},
   "source": [
    "* Dropping the `EIN` (Employer Identification Number) and `NAME` columns from the DataFrame, because they are not relevant to the binary classification model."
   ]
  },
  {
   "cell_type": "code",
   "execution_count": 4,
   "id": "81521d34-ea48-4a88-a4b6-571ce8add161",
   "metadata": {},
   "outputs": [
    {
     "data": {
      "text/html": [
       "<div>\n",
       "<style scoped>\n",
       "    .dataframe tbody tr th:only-of-type {\n",
       "        vertical-align: middle;\n",
       "    }\n",
       "\n",
       "    .dataframe tbody tr th {\n",
       "        vertical-align: top;\n",
       "    }\n",
       "\n",
       "    .dataframe thead th {\n",
       "        text-align: right;\n",
       "    }\n",
       "</style>\n",
       "<table border=\"1\" class=\"dataframe\">\n",
       "  <thead>\n",
       "    <tr style=\"text-align: right;\">\n",
       "      <th></th>\n",
       "      <th>APPLICATION_TYPE</th>\n",
       "      <th>AFFILIATION</th>\n",
       "      <th>CLASSIFICATION</th>\n",
       "      <th>USE_CASE</th>\n",
       "      <th>ORGANIZATION</th>\n",
       "      <th>STATUS</th>\n",
       "      <th>INCOME_AMT</th>\n",
       "      <th>SPECIAL_CONSIDERATIONS</th>\n",
       "      <th>ASK_AMT</th>\n",
       "      <th>IS_SUCCESSFUL</th>\n",
       "    </tr>\n",
       "  </thead>\n",
       "  <tbody>\n",
       "    <tr>\n",
       "      <th>0</th>\n",
       "      <td>T10</td>\n",
       "      <td>Independent</td>\n",
       "      <td>C1000</td>\n",
       "      <td>ProductDev</td>\n",
       "      <td>Association</td>\n",
       "      <td>1</td>\n",
       "      <td>0</td>\n",
       "      <td>N</td>\n",
       "      <td>5000</td>\n",
       "      <td>1</td>\n",
       "    </tr>\n",
       "    <tr>\n",
       "      <th>1</th>\n",
       "      <td>T3</td>\n",
       "      <td>Independent</td>\n",
       "      <td>C2000</td>\n",
       "      <td>Preservation</td>\n",
       "      <td>Co-operative</td>\n",
       "      <td>1</td>\n",
       "      <td>1-9999</td>\n",
       "      <td>N</td>\n",
       "      <td>108590</td>\n",
       "      <td>1</td>\n",
       "    </tr>\n",
       "    <tr>\n",
       "      <th>2</th>\n",
       "      <td>T5</td>\n",
       "      <td>CompanySponsored</td>\n",
       "      <td>C3000</td>\n",
       "      <td>ProductDev</td>\n",
       "      <td>Association</td>\n",
       "      <td>1</td>\n",
       "      <td>0</td>\n",
       "      <td>N</td>\n",
       "      <td>5000</td>\n",
       "      <td>0</td>\n",
       "    </tr>\n",
       "    <tr>\n",
       "      <th>3</th>\n",
       "      <td>T3</td>\n",
       "      <td>CompanySponsored</td>\n",
       "      <td>C2000</td>\n",
       "      <td>Preservation</td>\n",
       "      <td>Trust</td>\n",
       "      <td>1</td>\n",
       "      <td>10000-24999</td>\n",
       "      <td>N</td>\n",
       "      <td>6692</td>\n",
       "      <td>1</td>\n",
       "    </tr>\n",
       "    <tr>\n",
       "      <th>4</th>\n",
       "      <td>T3</td>\n",
       "      <td>Independent</td>\n",
       "      <td>C1000</td>\n",
       "      <td>Heathcare</td>\n",
       "      <td>Trust</td>\n",
       "      <td>1</td>\n",
       "      <td>100000-499999</td>\n",
       "      <td>N</td>\n",
       "      <td>142590</td>\n",
       "      <td>1</td>\n",
       "    </tr>\n",
       "  </tbody>\n",
       "</table>\n",
       "</div>"
      ],
      "text/plain": [
       "  APPLICATION_TYPE       AFFILIATION CLASSIFICATION      USE_CASE  \\\n",
       "0              T10       Independent          C1000    ProductDev   \n",
       "1               T3       Independent          C2000  Preservation   \n",
       "2               T5  CompanySponsored          C3000    ProductDev   \n",
       "3               T3  CompanySponsored          C2000  Preservation   \n",
       "4               T3       Independent          C1000     Heathcare   \n",
       "\n",
       "   ORGANIZATION  STATUS     INCOME_AMT SPECIAL_CONSIDERATIONS  ASK_AMT  \\\n",
       "0   Association       1              0                      N     5000   \n",
       "1  Co-operative       1         1-9999                      N   108590   \n",
       "2   Association       1              0                      N     5000   \n",
       "3         Trust       1    10000-24999                      N     6692   \n",
       "4         Trust       1  100000-499999                      N   142590   \n",
       "\n",
       "   IS_SUCCESSFUL  \n",
       "0              1  \n",
       "1              1  \n",
       "2              0  \n",
       "3              1  \n",
       "4              1  "
      ]
     },
     "execution_count": 4,
     "metadata": {},
     "output_type": "execute_result"
    }
   ],
   "source": [
    "# Drop the 'EIN' and 'NAME' columns from the DataFrame\n",
    "applicant_data_df = applicant_data_df.drop(columns=[\"EIN\", \"NAME\"])\n",
    "\n",
    "# Review the DataFrame\n",
    "applicant_data_df.head()"
   ]
  },
  {
   "cell_type": "markdown",
   "id": "ca846735-2fa9-4d44-ac87-441227ee0c1b",
   "metadata": {},
   "source": [
    "* Encoding the dataset’s categorical variables using __OneHotEncoder__, and then place the encoded variables into a new DataFrame."
   ]
  },
  {
   "cell_type": "code",
   "execution_count": 5,
   "id": "5bffedd4-8418-465d-bacf-f5881f6896a9",
   "metadata": {
    "tags": []
   },
   "outputs": [
    {
     "data": {
      "text/plain": [
       "['APPLICATION_TYPE',\n",
       " 'AFFILIATION',\n",
       " 'CLASSIFICATION',\n",
       " 'USE_CASE',\n",
       " 'ORGANIZATION',\n",
       " 'INCOME_AMT',\n",
       " 'SPECIAL_CONSIDERATIONS']"
      ]
     },
     "execution_count": 5,
     "metadata": {},
     "output_type": "execute_result"
    }
   ],
   "source": [
    "# Create a list of categorical variables \n",
    "categorical_variables = list(applicant_data_df.dtypes[applicant_data_df.dtypes == \"object\"].index)\n",
    "\n",
    "# Display the categorical variables list\n",
    "categorical_variables "
   ]
  },
  {
   "cell_type": "code",
   "execution_count": 6,
   "id": "e058a609-3a22-4fd9-92b9-d83bd659edc9",
   "metadata": {
    "tags": []
   },
   "outputs": [],
   "source": [
    "# Create a OneHotEncoder instance\n",
    "enc = OneHotEncoder(sparse_output=False)\n",
    "\n",
    "# Encode categorical variables using OneHotEncoder\n",
    "encoded_data = enc.fit_transform(applicant_data_df[categorical_variables])"
   ]
  },
  {
   "cell_type": "code",
   "execution_count": 7,
   "id": "6f7e9caf-ede2-4569-af8f-978273bb45e5",
   "metadata": {
    "tags": []
   },
   "outputs": [
    {
     "data": {
      "text/html": [
       "<div>\n",
       "<style scoped>\n",
       "    .dataframe tbody tr th:only-of-type {\n",
       "        vertical-align: middle;\n",
       "    }\n",
       "\n",
       "    .dataframe tbody tr th {\n",
       "        vertical-align: top;\n",
       "    }\n",
       "\n",
       "    .dataframe thead th {\n",
       "        text-align: right;\n",
       "    }\n",
       "</style>\n",
       "<table border=\"1\" class=\"dataframe\">\n",
       "  <thead>\n",
       "    <tr style=\"text-align: right;\">\n",
       "      <th></th>\n",
       "      <th>APPLICATION_TYPE_T10</th>\n",
       "      <th>APPLICATION_TYPE_T12</th>\n",
       "      <th>APPLICATION_TYPE_T13</th>\n",
       "      <th>APPLICATION_TYPE_T14</th>\n",
       "      <th>APPLICATION_TYPE_T15</th>\n",
       "      <th>APPLICATION_TYPE_T17</th>\n",
       "      <th>APPLICATION_TYPE_T19</th>\n",
       "      <th>APPLICATION_TYPE_T2</th>\n",
       "      <th>APPLICATION_TYPE_T25</th>\n",
       "      <th>APPLICATION_TYPE_T29</th>\n",
       "      <th>...</th>\n",
       "      <th>INCOME_AMT_1-9999</th>\n",
       "      <th>INCOME_AMT_10000-24999</th>\n",
       "      <th>INCOME_AMT_100000-499999</th>\n",
       "      <th>INCOME_AMT_10M-50M</th>\n",
       "      <th>INCOME_AMT_1M-5M</th>\n",
       "      <th>INCOME_AMT_25000-99999</th>\n",
       "      <th>INCOME_AMT_50M+</th>\n",
       "      <th>INCOME_AMT_5M-10M</th>\n",
       "      <th>SPECIAL_CONSIDERATIONS_N</th>\n",
       "      <th>SPECIAL_CONSIDERATIONS_Y</th>\n",
       "    </tr>\n",
       "  </thead>\n",
       "  <tbody>\n",
       "    <tr>\n",
       "      <th>0</th>\n",
       "      <td>1.0</td>\n",
       "      <td>0.0</td>\n",
       "      <td>0.0</td>\n",
       "      <td>0.0</td>\n",
       "      <td>0.0</td>\n",
       "      <td>0.0</td>\n",
       "      <td>0.0</td>\n",
       "      <td>0.0</td>\n",
       "      <td>0.0</td>\n",
       "      <td>0.0</td>\n",
       "      <td>...</td>\n",
       "      <td>0.0</td>\n",
       "      <td>0.0</td>\n",
       "      <td>0.0</td>\n",
       "      <td>0.0</td>\n",
       "      <td>0.0</td>\n",
       "      <td>0.0</td>\n",
       "      <td>0.0</td>\n",
       "      <td>0.0</td>\n",
       "      <td>1.0</td>\n",
       "      <td>0.0</td>\n",
       "    </tr>\n",
       "    <tr>\n",
       "      <th>1</th>\n",
       "      <td>0.0</td>\n",
       "      <td>0.0</td>\n",
       "      <td>0.0</td>\n",
       "      <td>0.0</td>\n",
       "      <td>0.0</td>\n",
       "      <td>0.0</td>\n",
       "      <td>0.0</td>\n",
       "      <td>0.0</td>\n",
       "      <td>0.0</td>\n",
       "      <td>0.0</td>\n",
       "      <td>...</td>\n",
       "      <td>1.0</td>\n",
       "      <td>0.0</td>\n",
       "      <td>0.0</td>\n",
       "      <td>0.0</td>\n",
       "      <td>0.0</td>\n",
       "      <td>0.0</td>\n",
       "      <td>0.0</td>\n",
       "      <td>0.0</td>\n",
       "      <td>1.0</td>\n",
       "      <td>0.0</td>\n",
       "    </tr>\n",
       "    <tr>\n",
       "      <th>2</th>\n",
       "      <td>0.0</td>\n",
       "      <td>0.0</td>\n",
       "      <td>0.0</td>\n",
       "      <td>0.0</td>\n",
       "      <td>0.0</td>\n",
       "      <td>0.0</td>\n",
       "      <td>0.0</td>\n",
       "      <td>0.0</td>\n",
       "      <td>0.0</td>\n",
       "      <td>0.0</td>\n",
       "      <td>...</td>\n",
       "      <td>0.0</td>\n",
       "      <td>0.0</td>\n",
       "      <td>0.0</td>\n",
       "      <td>0.0</td>\n",
       "      <td>0.0</td>\n",
       "      <td>0.0</td>\n",
       "      <td>0.0</td>\n",
       "      <td>0.0</td>\n",
       "      <td>1.0</td>\n",
       "      <td>0.0</td>\n",
       "    </tr>\n",
       "    <tr>\n",
       "      <th>3</th>\n",
       "      <td>0.0</td>\n",
       "      <td>0.0</td>\n",
       "      <td>0.0</td>\n",
       "      <td>0.0</td>\n",
       "      <td>0.0</td>\n",
       "      <td>0.0</td>\n",
       "      <td>0.0</td>\n",
       "      <td>0.0</td>\n",
       "      <td>0.0</td>\n",
       "      <td>0.0</td>\n",
       "      <td>...</td>\n",
       "      <td>0.0</td>\n",
       "      <td>1.0</td>\n",
       "      <td>0.0</td>\n",
       "      <td>0.0</td>\n",
       "      <td>0.0</td>\n",
       "      <td>0.0</td>\n",
       "      <td>0.0</td>\n",
       "      <td>0.0</td>\n",
       "      <td>1.0</td>\n",
       "      <td>0.0</td>\n",
       "    </tr>\n",
       "    <tr>\n",
       "      <th>4</th>\n",
       "      <td>0.0</td>\n",
       "      <td>0.0</td>\n",
       "      <td>0.0</td>\n",
       "      <td>0.0</td>\n",
       "      <td>0.0</td>\n",
       "      <td>0.0</td>\n",
       "      <td>0.0</td>\n",
       "      <td>0.0</td>\n",
       "      <td>0.0</td>\n",
       "      <td>0.0</td>\n",
       "      <td>...</td>\n",
       "      <td>0.0</td>\n",
       "      <td>0.0</td>\n",
       "      <td>1.0</td>\n",
       "      <td>0.0</td>\n",
       "      <td>0.0</td>\n",
       "      <td>0.0</td>\n",
       "      <td>0.0</td>\n",
       "      <td>0.0</td>\n",
       "      <td>1.0</td>\n",
       "      <td>0.0</td>\n",
       "    </tr>\n",
       "  </tbody>\n",
       "</table>\n",
       "<p>5 rows × 114 columns</p>\n",
       "</div>"
      ],
      "text/plain": [
       "   APPLICATION_TYPE_T10  APPLICATION_TYPE_T12  APPLICATION_TYPE_T13  \\\n",
       "0                   1.0                   0.0                   0.0   \n",
       "1                   0.0                   0.0                   0.0   \n",
       "2                   0.0                   0.0                   0.0   \n",
       "3                   0.0                   0.0                   0.0   \n",
       "4                   0.0                   0.0                   0.0   \n",
       "\n",
       "   APPLICATION_TYPE_T14  APPLICATION_TYPE_T15  APPLICATION_TYPE_T17  \\\n",
       "0                   0.0                   0.0                   0.0   \n",
       "1                   0.0                   0.0                   0.0   \n",
       "2                   0.0                   0.0                   0.0   \n",
       "3                   0.0                   0.0                   0.0   \n",
       "4                   0.0                   0.0                   0.0   \n",
       "\n",
       "   APPLICATION_TYPE_T19  APPLICATION_TYPE_T2  APPLICATION_TYPE_T25  \\\n",
       "0                   0.0                  0.0                   0.0   \n",
       "1                   0.0                  0.0                   0.0   \n",
       "2                   0.0                  0.0                   0.0   \n",
       "3                   0.0                  0.0                   0.0   \n",
       "4                   0.0                  0.0                   0.0   \n",
       "\n",
       "   APPLICATION_TYPE_T29  ...  INCOME_AMT_1-9999  INCOME_AMT_10000-24999  \\\n",
       "0                   0.0  ...                0.0                     0.0   \n",
       "1                   0.0  ...                1.0                     0.0   \n",
       "2                   0.0  ...                0.0                     0.0   \n",
       "3                   0.0  ...                0.0                     1.0   \n",
       "4                   0.0  ...                0.0                     0.0   \n",
       "\n",
       "   INCOME_AMT_100000-499999  INCOME_AMT_10M-50M  INCOME_AMT_1M-5M  \\\n",
       "0                       0.0                 0.0               0.0   \n",
       "1                       0.0                 0.0               0.0   \n",
       "2                       0.0                 0.0               0.0   \n",
       "3                       0.0                 0.0               0.0   \n",
       "4                       1.0                 0.0               0.0   \n",
       "\n",
       "   INCOME_AMT_25000-99999  INCOME_AMT_50M+  INCOME_AMT_5M-10M  \\\n",
       "0                     0.0              0.0                0.0   \n",
       "1                     0.0              0.0                0.0   \n",
       "2                     0.0              0.0                0.0   \n",
       "3                     0.0              0.0                0.0   \n",
       "4                     0.0              0.0                0.0   \n",
       "\n",
       "   SPECIAL_CONSIDERATIONS_N  SPECIAL_CONSIDERATIONS_Y  \n",
       "0                       1.0                       0.0  \n",
       "1                       1.0                       0.0  \n",
       "2                       1.0                       0.0  \n",
       "3                       1.0                       0.0  \n",
       "4                       1.0                       0.0  \n",
       "\n",
       "[5 rows x 114 columns]"
      ]
     },
     "execution_count": 7,
     "metadata": {},
     "output_type": "execute_result"
    }
   ],
   "source": [
    "# Create a DataFrame with the encoded variables\n",
    "# The column names should match those of the encoded variables\n",
    "encoded_df = pd.DataFrame(\n",
    "    encoded_data,\n",
    "    columns = enc.get_feature_names_out(categorical_variables)\n",
    ")\n",
    "\n",
    "# Display the DataFrame\n",
    "encoded_df.head()"
   ]
  },
  {
   "cell_type": "markdown",
   "id": "4ce9098f-ea36-471a-ac56-f5723c5cf677",
   "metadata": {},
   "source": [
    "* Adding the original DataFrame’s numerical variables to the DataFrame containing the encoded variables."
   ]
  },
  {
   "cell_type": "code",
   "execution_count": 8,
   "id": "e6a64a5c-578b-479a-8c83-3660d6f67225",
   "metadata": {
    "tags": []
   },
   "outputs": [],
   "source": [
    "# Create a list of the columns with numerical variables\n",
    "numerical_variables = list(applicant_data_df.dtypes[applicant_data_df.dtypes == \"int64\"].index)"
   ]
  },
  {
   "cell_type": "code",
   "execution_count": 9,
   "id": "5c21622c-6252-4c8e-b068-3635330cd448",
   "metadata": {
    "tags": []
   },
   "outputs": [
    {
     "data": {
      "text/html": [
       "<div>\n",
       "<style scoped>\n",
       "    .dataframe tbody tr th:only-of-type {\n",
       "        vertical-align: middle;\n",
       "    }\n",
       "\n",
       "    .dataframe tbody tr th {\n",
       "        vertical-align: top;\n",
       "    }\n",
       "\n",
       "    .dataframe thead th {\n",
       "        text-align: right;\n",
       "    }\n",
       "</style>\n",
       "<table border=\"1\" class=\"dataframe\">\n",
       "  <thead>\n",
       "    <tr style=\"text-align: right;\">\n",
       "      <th></th>\n",
       "      <th>STATUS</th>\n",
       "      <th>ASK_AMT</th>\n",
       "      <th>IS_SUCCESSFUL</th>\n",
       "    </tr>\n",
       "  </thead>\n",
       "  <tbody>\n",
       "    <tr>\n",
       "      <th>0</th>\n",
       "      <td>1</td>\n",
       "      <td>5000</td>\n",
       "      <td>1</td>\n",
       "    </tr>\n",
       "    <tr>\n",
       "      <th>1</th>\n",
       "      <td>1</td>\n",
       "      <td>108590</td>\n",
       "      <td>1</td>\n",
       "    </tr>\n",
       "    <tr>\n",
       "      <th>2</th>\n",
       "      <td>1</td>\n",
       "      <td>5000</td>\n",
       "      <td>0</td>\n",
       "    </tr>\n",
       "    <tr>\n",
       "      <th>3</th>\n",
       "      <td>1</td>\n",
       "      <td>6692</td>\n",
       "      <td>1</td>\n",
       "    </tr>\n",
       "    <tr>\n",
       "      <th>4</th>\n",
       "      <td>1</td>\n",
       "      <td>142590</td>\n",
       "      <td>1</td>\n",
       "    </tr>\n",
       "  </tbody>\n",
       "</table>\n",
       "</div>"
      ],
      "text/plain": [
       "   STATUS  ASK_AMT  IS_SUCCESSFUL\n",
       "0       1     5000              1\n",
       "1       1   108590              1\n",
       "2       1     5000              0\n",
       "3       1     6692              1\n",
       "4       1   142590              1"
      ]
     },
     "execution_count": 9,
     "metadata": {},
     "output_type": "execute_result"
    }
   ],
   "source": [
    "# Create a DataFrame with the columnns containing numerical variables from the original dataset\n",
    "numerical_variables_df = applicant_data_df[numerical_variables]\n",
    "\n",
    "# Review the DataFrame\n",
    "numerical_variables_df.head()"
   ]
  },
  {
   "cell_type": "code",
   "execution_count": 10,
   "id": "6e693cdb-c84c-42e0-9d0e-f60989ecd911",
   "metadata": {
    "tags": []
   },
   "outputs": [
    {
     "data": {
      "text/html": [
       "<div>\n",
       "<style scoped>\n",
       "    .dataframe tbody tr th:only-of-type {\n",
       "        vertical-align: middle;\n",
       "    }\n",
       "\n",
       "    .dataframe tbody tr th {\n",
       "        vertical-align: top;\n",
       "    }\n",
       "\n",
       "    .dataframe thead th {\n",
       "        text-align: right;\n",
       "    }\n",
       "</style>\n",
       "<table border=\"1\" class=\"dataframe\">\n",
       "  <thead>\n",
       "    <tr style=\"text-align: right;\">\n",
       "      <th></th>\n",
       "      <th>STATUS</th>\n",
       "      <th>ASK_AMT</th>\n",
       "      <th>IS_SUCCESSFUL</th>\n",
       "      <th>APPLICATION_TYPE_T10</th>\n",
       "      <th>APPLICATION_TYPE_T12</th>\n",
       "      <th>APPLICATION_TYPE_T13</th>\n",
       "      <th>APPLICATION_TYPE_T14</th>\n",
       "      <th>APPLICATION_TYPE_T15</th>\n",
       "      <th>APPLICATION_TYPE_T17</th>\n",
       "      <th>APPLICATION_TYPE_T19</th>\n",
       "      <th>...</th>\n",
       "      <th>INCOME_AMT_1-9999</th>\n",
       "      <th>INCOME_AMT_10000-24999</th>\n",
       "      <th>INCOME_AMT_100000-499999</th>\n",
       "      <th>INCOME_AMT_10M-50M</th>\n",
       "      <th>INCOME_AMT_1M-5M</th>\n",
       "      <th>INCOME_AMT_25000-99999</th>\n",
       "      <th>INCOME_AMT_50M+</th>\n",
       "      <th>INCOME_AMT_5M-10M</th>\n",
       "      <th>SPECIAL_CONSIDERATIONS_N</th>\n",
       "      <th>SPECIAL_CONSIDERATIONS_Y</th>\n",
       "    </tr>\n",
       "  </thead>\n",
       "  <tbody>\n",
       "    <tr>\n",
       "      <th>0</th>\n",
       "      <td>1</td>\n",
       "      <td>5000</td>\n",
       "      <td>1</td>\n",
       "      <td>1.0</td>\n",
       "      <td>0.0</td>\n",
       "      <td>0.0</td>\n",
       "      <td>0.0</td>\n",
       "      <td>0.0</td>\n",
       "      <td>0.0</td>\n",
       "      <td>0.0</td>\n",
       "      <td>...</td>\n",
       "      <td>0.0</td>\n",
       "      <td>0.0</td>\n",
       "      <td>0.0</td>\n",
       "      <td>0.0</td>\n",
       "      <td>0.0</td>\n",
       "      <td>0.0</td>\n",
       "      <td>0.0</td>\n",
       "      <td>0.0</td>\n",
       "      <td>1.0</td>\n",
       "      <td>0.0</td>\n",
       "    </tr>\n",
       "    <tr>\n",
       "      <th>1</th>\n",
       "      <td>1</td>\n",
       "      <td>108590</td>\n",
       "      <td>1</td>\n",
       "      <td>0.0</td>\n",
       "      <td>0.0</td>\n",
       "      <td>0.0</td>\n",
       "      <td>0.0</td>\n",
       "      <td>0.0</td>\n",
       "      <td>0.0</td>\n",
       "      <td>0.0</td>\n",
       "      <td>...</td>\n",
       "      <td>1.0</td>\n",
       "      <td>0.0</td>\n",
       "      <td>0.0</td>\n",
       "      <td>0.0</td>\n",
       "      <td>0.0</td>\n",
       "      <td>0.0</td>\n",
       "      <td>0.0</td>\n",
       "      <td>0.0</td>\n",
       "      <td>1.0</td>\n",
       "      <td>0.0</td>\n",
       "    </tr>\n",
       "    <tr>\n",
       "      <th>2</th>\n",
       "      <td>1</td>\n",
       "      <td>5000</td>\n",
       "      <td>0</td>\n",
       "      <td>0.0</td>\n",
       "      <td>0.0</td>\n",
       "      <td>0.0</td>\n",
       "      <td>0.0</td>\n",
       "      <td>0.0</td>\n",
       "      <td>0.0</td>\n",
       "      <td>0.0</td>\n",
       "      <td>...</td>\n",
       "      <td>0.0</td>\n",
       "      <td>0.0</td>\n",
       "      <td>0.0</td>\n",
       "      <td>0.0</td>\n",
       "      <td>0.0</td>\n",
       "      <td>0.0</td>\n",
       "      <td>0.0</td>\n",
       "      <td>0.0</td>\n",
       "      <td>1.0</td>\n",
       "      <td>0.0</td>\n",
       "    </tr>\n",
       "    <tr>\n",
       "      <th>3</th>\n",
       "      <td>1</td>\n",
       "      <td>6692</td>\n",
       "      <td>1</td>\n",
       "      <td>0.0</td>\n",
       "      <td>0.0</td>\n",
       "      <td>0.0</td>\n",
       "      <td>0.0</td>\n",
       "      <td>0.0</td>\n",
       "      <td>0.0</td>\n",
       "      <td>0.0</td>\n",
       "      <td>...</td>\n",
       "      <td>0.0</td>\n",
       "      <td>1.0</td>\n",
       "      <td>0.0</td>\n",
       "      <td>0.0</td>\n",
       "      <td>0.0</td>\n",
       "      <td>0.0</td>\n",
       "      <td>0.0</td>\n",
       "      <td>0.0</td>\n",
       "      <td>1.0</td>\n",
       "      <td>0.0</td>\n",
       "    </tr>\n",
       "    <tr>\n",
       "      <th>4</th>\n",
       "      <td>1</td>\n",
       "      <td>142590</td>\n",
       "      <td>1</td>\n",
       "      <td>0.0</td>\n",
       "      <td>0.0</td>\n",
       "      <td>0.0</td>\n",
       "      <td>0.0</td>\n",
       "      <td>0.0</td>\n",
       "      <td>0.0</td>\n",
       "      <td>0.0</td>\n",
       "      <td>...</td>\n",
       "      <td>0.0</td>\n",
       "      <td>0.0</td>\n",
       "      <td>1.0</td>\n",
       "      <td>0.0</td>\n",
       "      <td>0.0</td>\n",
       "      <td>0.0</td>\n",
       "      <td>0.0</td>\n",
       "      <td>0.0</td>\n",
       "      <td>1.0</td>\n",
       "      <td>0.0</td>\n",
       "    </tr>\n",
       "  </tbody>\n",
       "</table>\n",
       "<p>5 rows × 117 columns</p>\n",
       "</div>"
      ],
      "text/plain": [
       "   STATUS  ASK_AMT  IS_SUCCESSFUL  APPLICATION_TYPE_T10  APPLICATION_TYPE_T12  \\\n",
       "0       1     5000              1                   1.0                   0.0   \n",
       "1       1   108590              1                   0.0                   0.0   \n",
       "2       1     5000              0                   0.0                   0.0   \n",
       "3       1     6692              1                   0.0                   0.0   \n",
       "4       1   142590              1                   0.0                   0.0   \n",
       "\n",
       "   APPLICATION_TYPE_T13  APPLICATION_TYPE_T14  APPLICATION_TYPE_T15  \\\n",
       "0                   0.0                   0.0                   0.0   \n",
       "1                   0.0                   0.0                   0.0   \n",
       "2                   0.0                   0.0                   0.0   \n",
       "3                   0.0                   0.0                   0.0   \n",
       "4                   0.0                   0.0                   0.0   \n",
       "\n",
       "   APPLICATION_TYPE_T17  APPLICATION_TYPE_T19  ...  INCOME_AMT_1-9999  \\\n",
       "0                   0.0                   0.0  ...                0.0   \n",
       "1                   0.0                   0.0  ...                1.0   \n",
       "2                   0.0                   0.0  ...                0.0   \n",
       "3                   0.0                   0.0  ...                0.0   \n",
       "4                   0.0                   0.0  ...                0.0   \n",
       "\n",
       "   INCOME_AMT_10000-24999  INCOME_AMT_100000-499999  INCOME_AMT_10M-50M  \\\n",
       "0                     0.0                       0.0                 0.0   \n",
       "1                     0.0                       0.0                 0.0   \n",
       "2                     0.0                       0.0                 0.0   \n",
       "3                     1.0                       0.0                 0.0   \n",
       "4                     0.0                       1.0                 0.0   \n",
       "\n",
       "   INCOME_AMT_1M-5M  INCOME_AMT_25000-99999  INCOME_AMT_50M+  \\\n",
       "0               0.0                     0.0              0.0   \n",
       "1               0.0                     0.0              0.0   \n",
       "2               0.0                     0.0              0.0   \n",
       "3               0.0                     0.0              0.0   \n",
       "4               0.0                     0.0              0.0   \n",
       "\n",
       "   INCOME_AMT_5M-10M  SPECIAL_CONSIDERATIONS_N  SPECIAL_CONSIDERATIONS_Y  \n",
       "0                0.0                       1.0                       0.0  \n",
       "1                0.0                       1.0                       0.0  \n",
       "2                0.0                       1.0                       0.0  \n",
       "3                0.0                       1.0                       0.0  \n",
       "4                0.0                       1.0                       0.0  \n",
       "\n",
       "[5 rows x 117 columns]"
      ]
     },
     "execution_count": 10,
     "metadata": {},
     "output_type": "execute_result"
    }
   ],
   "source": [
    "# Using the Pandas concat function, combine the DataFrames the contain the encoded categorical data and the numerical data\n",
    "applicant_df = pd.concat([numerical_variables_df, encoded_df], axis=\"columns\", join=\"inner\")\n",
    "\n",
    "# Reveiw the DataFrame\n",
    "applicant_df.head()"
   ]
  },
  {
   "cell_type": "markdown",
   "id": "ac23df74-c722-4600-a6d7-05f7f6323c26",
   "metadata": {},
   "source": [
    "* Using the preprocessed data, create the features (`X`) and target (`y`) datasets. The target dataset should be defined by the preprocessed DataFrame column __`IS_SUCCESSFUL`__. The remaining columns should define the features dataset."
   ]
  },
  {
   "cell_type": "code",
   "execution_count": 11,
   "id": "f779ff5e-7d07-4fed-80de-ffdc1aafcb54",
   "metadata": {
    "tags": []
   },
   "outputs": [
    {
     "data": {
      "text/plain": [
       "0    1\n",
       "1    1\n",
       "2    0\n",
       "3    1\n",
       "4    1\n",
       "Name: IS_SUCCESSFUL, dtype: int64"
      ]
     },
     "execution_count": 11,
     "metadata": {},
     "output_type": "execute_result"
    }
   ],
   "source": [
    "# Define the target set y using the IS_SUCCESSFUL column\n",
    "y = applicant_df[\"IS_SUCCESSFUL\"]\n",
    "\n",
    "# Display a sample of y\n",
    "y[:5]"
   ]
  },
  {
   "cell_type": "code",
   "execution_count": 12,
   "id": "0662ff96-9905-441b-b712-7186fc20eebb",
   "metadata": {
    "tags": []
   },
   "outputs": [
    {
     "data": {
      "text/html": [
       "<div>\n",
       "<style scoped>\n",
       "    .dataframe tbody tr th:only-of-type {\n",
       "        vertical-align: middle;\n",
       "    }\n",
       "\n",
       "    .dataframe tbody tr th {\n",
       "        vertical-align: top;\n",
       "    }\n",
       "\n",
       "    .dataframe thead th {\n",
       "        text-align: right;\n",
       "    }\n",
       "</style>\n",
       "<table border=\"1\" class=\"dataframe\">\n",
       "  <thead>\n",
       "    <tr style=\"text-align: right;\">\n",
       "      <th></th>\n",
       "      <th>STATUS</th>\n",
       "      <th>ASK_AMT</th>\n",
       "      <th>APPLICATION_TYPE_T10</th>\n",
       "      <th>APPLICATION_TYPE_T12</th>\n",
       "      <th>APPLICATION_TYPE_T13</th>\n",
       "      <th>APPLICATION_TYPE_T14</th>\n",
       "      <th>APPLICATION_TYPE_T15</th>\n",
       "      <th>APPLICATION_TYPE_T17</th>\n",
       "      <th>APPLICATION_TYPE_T19</th>\n",
       "      <th>APPLICATION_TYPE_T2</th>\n",
       "      <th>...</th>\n",
       "      <th>INCOME_AMT_1-9999</th>\n",
       "      <th>INCOME_AMT_10000-24999</th>\n",
       "      <th>INCOME_AMT_100000-499999</th>\n",
       "      <th>INCOME_AMT_10M-50M</th>\n",
       "      <th>INCOME_AMT_1M-5M</th>\n",
       "      <th>INCOME_AMT_25000-99999</th>\n",
       "      <th>INCOME_AMT_50M+</th>\n",
       "      <th>INCOME_AMT_5M-10M</th>\n",
       "      <th>SPECIAL_CONSIDERATIONS_N</th>\n",
       "      <th>SPECIAL_CONSIDERATIONS_Y</th>\n",
       "    </tr>\n",
       "  </thead>\n",
       "  <tbody>\n",
       "    <tr>\n",
       "      <th>0</th>\n",
       "      <td>1</td>\n",
       "      <td>5000</td>\n",
       "      <td>1.0</td>\n",
       "      <td>0.0</td>\n",
       "      <td>0.0</td>\n",
       "      <td>0.0</td>\n",
       "      <td>0.0</td>\n",
       "      <td>0.0</td>\n",
       "      <td>0.0</td>\n",
       "      <td>0.0</td>\n",
       "      <td>...</td>\n",
       "      <td>0.0</td>\n",
       "      <td>0.0</td>\n",
       "      <td>0.0</td>\n",
       "      <td>0.0</td>\n",
       "      <td>0.0</td>\n",
       "      <td>0.0</td>\n",
       "      <td>0.0</td>\n",
       "      <td>0.0</td>\n",
       "      <td>1.0</td>\n",
       "      <td>0.0</td>\n",
       "    </tr>\n",
       "    <tr>\n",
       "      <th>1</th>\n",
       "      <td>1</td>\n",
       "      <td>108590</td>\n",
       "      <td>0.0</td>\n",
       "      <td>0.0</td>\n",
       "      <td>0.0</td>\n",
       "      <td>0.0</td>\n",
       "      <td>0.0</td>\n",
       "      <td>0.0</td>\n",
       "      <td>0.0</td>\n",
       "      <td>0.0</td>\n",
       "      <td>...</td>\n",
       "      <td>1.0</td>\n",
       "      <td>0.0</td>\n",
       "      <td>0.0</td>\n",
       "      <td>0.0</td>\n",
       "      <td>0.0</td>\n",
       "      <td>0.0</td>\n",
       "      <td>0.0</td>\n",
       "      <td>0.0</td>\n",
       "      <td>1.0</td>\n",
       "      <td>0.0</td>\n",
       "    </tr>\n",
       "    <tr>\n",
       "      <th>2</th>\n",
       "      <td>1</td>\n",
       "      <td>5000</td>\n",
       "      <td>0.0</td>\n",
       "      <td>0.0</td>\n",
       "      <td>0.0</td>\n",
       "      <td>0.0</td>\n",
       "      <td>0.0</td>\n",
       "      <td>0.0</td>\n",
       "      <td>0.0</td>\n",
       "      <td>0.0</td>\n",
       "      <td>...</td>\n",
       "      <td>0.0</td>\n",
       "      <td>0.0</td>\n",
       "      <td>0.0</td>\n",
       "      <td>0.0</td>\n",
       "      <td>0.0</td>\n",
       "      <td>0.0</td>\n",
       "      <td>0.0</td>\n",
       "      <td>0.0</td>\n",
       "      <td>1.0</td>\n",
       "      <td>0.0</td>\n",
       "    </tr>\n",
       "    <tr>\n",
       "      <th>3</th>\n",
       "      <td>1</td>\n",
       "      <td>6692</td>\n",
       "      <td>0.0</td>\n",
       "      <td>0.0</td>\n",
       "      <td>0.0</td>\n",
       "      <td>0.0</td>\n",
       "      <td>0.0</td>\n",
       "      <td>0.0</td>\n",
       "      <td>0.0</td>\n",
       "      <td>0.0</td>\n",
       "      <td>...</td>\n",
       "      <td>0.0</td>\n",
       "      <td>1.0</td>\n",
       "      <td>0.0</td>\n",
       "      <td>0.0</td>\n",
       "      <td>0.0</td>\n",
       "      <td>0.0</td>\n",
       "      <td>0.0</td>\n",
       "      <td>0.0</td>\n",
       "      <td>1.0</td>\n",
       "      <td>0.0</td>\n",
       "    </tr>\n",
       "    <tr>\n",
       "      <th>4</th>\n",
       "      <td>1</td>\n",
       "      <td>142590</td>\n",
       "      <td>0.0</td>\n",
       "      <td>0.0</td>\n",
       "      <td>0.0</td>\n",
       "      <td>0.0</td>\n",
       "      <td>0.0</td>\n",
       "      <td>0.0</td>\n",
       "      <td>0.0</td>\n",
       "      <td>0.0</td>\n",
       "      <td>...</td>\n",
       "      <td>0.0</td>\n",
       "      <td>0.0</td>\n",
       "      <td>1.0</td>\n",
       "      <td>0.0</td>\n",
       "      <td>0.0</td>\n",
       "      <td>0.0</td>\n",
       "      <td>0.0</td>\n",
       "      <td>0.0</td>\n",
       "      <td>1.0</td>\n",
       "      <td>0.0</td>\n",
       "    </tr>\n",
       "  </tbody>\n",
       "</table>\n",
       "<p>5 rows × 116 columns</p>\n",
       "</div>"
      ],
      "text/plain": [
       "   STATUS  ASK_AMT  APPLICATION_TYPE_T10  APPLICATION_TYPE_T12  \\\n",
       "0       1     5000                   1.0                   0.0   \n",
       "1       1   108590                   0.0                   0.0   \n",
       "2       1     5000                   0.0                   0.0   \n",
       "3       1     6692                   0.0                   0.0   \n",
       "4       1   142590                   0.0                   0.0   \n",
       "\n",
       "   APPLICATION_TYPE_T13  APPLICATION_TYPE_T14  APPLICATION_TYPE_T15  \\\n",
       "0                   0.0                   0.0                   0.0   \n",
       "1                   0.0                   0.0                   0.0   \n",
       "2                   0.0                   0.0                   0.0   \n",
       "3                   0.0                   0.0                   0.0   \n",
       "4                   0.0                   0.0                   0.0   \n",
       "\n",
       "   APPLICATION_TYPE_T17  APPLICATION_TYPE_T19  APPLICATION_TYPE_T2  ...  \\\n",
       "0                   0.0                   0.0                  0.0  ...   \n",
       "1                   0.0                   0.0                  0.0  ...   \n",
       "2                   0.0                   0.0                  0.0  ...   \n",
       "3                   0.0                   0.0                  0.0  ...   \n",
       "4                   0.0                   0.0                  0.0  ...   \n",
       "\n",
       "   INCOME_AMT_1-9999  INCOME_AMT_10000-24999  INCOME_AMT_100000-499999  \\\n",
       "0                0.0                     0.0                       0.0   \n",
       "1                1.0                     0.0                       0.0   \n",
       "2                0.0                     0.0                       0.0   \n",
       "3                0.0                     1.0                       0.0   \n",
       "4                0.0                     0.0                       1.0   \n",
       "\n",
       "   INCOME_AMT_10M-50M  INCOME_AMT_1M-5M  INCOME_AMT_25000-99999  \\\n",
       "0                 0.0               0.0                     0.0   \n",
       "1                 0.0               0.0                     0.0   \n",
       "2                 0.0               0.0                     0.0   \n",
       "3                 0.0               0.0                     0.0   \n",
       "4                 0.0               0.0                     0.0   \n",
       "\n",
       "   INCOME_AMT_50M+  INCOME_AMT_5M-10M  SPECIAL_CONSIDERATIONS_N  \\\n",
       "0              0.0                0.0                       1.0   \n",
       "1              0.0                0.0                       1.0   \n",
       "2              0.0                0.0                       1.0   \n",
       "3              0.0                0.0                       1.0   \n",
       "4              0.0                0.0                       1.0   \n",
       "\n",
       "   SPECIAL_CONSIDERATIONS_Y  \n",
       "0                       0.0  \n",
       "1                       0.0  \n",
       "2                       0.0  \n",
       "3                       0.0  \n",
       "4                       0.0  \n",
       "\n",
       "[5 rows x 116 columns]"
      ]
     },
     "execution_count": 12,
     "metadata": {},
     "output_type": "execute_result"
    }
   ],
   "source": [
    "# Define features set X by selecting all columns but IS_SUCCESSFUL\n",
    "X = applicant_df.drop(columns = [\"IS_SUCCESSFUL\"], axis = 1)\n",
    "\n",
    "# Review the features DataFrame\n",
    "X.head()"
   ]
  },
  {
   "cell_type": "markdown",
   "id": "91751576-2eba-4cb4-823b-8f9ec7490aa6",
   "metadata": {},
   "source": [
    "* Splitting the features and target sets into training and testing datasets."
   ]
  },
  {
   "cell_type": "code",
   "execution_count": 13,
   "id": "ed50ecb0-008d-4430-9639-5d6d3d6cfc59",
   "metadata": {
    "tags": []
   },
   "outputs": [],
   "source": [
    "# Create training and testing datasets using train_teat_split\n",
    "# Assign the function a random_state equal to 1\n",
    "X_train, X_test, y_train, y_test = train_test_split(X, y, random_state=1)"
   ]
  },
  {
   "cell_type": "markdown",
   "id": "59ddc4e3-5c78-440c-bee5-6ebced5a5839",
   "metadata": {},
   "source": [
    "* Using scikit-learn's `StandardScaler` to scale the features data."
   ]
  },
  {
   "cell_type": "code",
   "execution_count": 14,
   "id": "c39a63fe-2f11-43aa-a5ee-c1789b263929",
   "metadata": {
    "tags": []
   },
   "outputs": [],
   "source": [
    "# Create scaler instance\n",
    "X_scaler = StandardScaler()\n",
    "\n",
    "# Fit the scaler\n",
    "X_scaler.fit(X_train)\n",
    "\n",
    "# Scale the data\n",
    "X_train_scaled = X_scaler.transform(X_train)\n",
    "X_test_scaled = X_scaler.transform(X_test)"
   ]
  },
  {
   "cell_type": "markdown",
   "id": "d30712e0-30e1-49f0-9121-9de57a2a89bf",
   "metadata": {},
   "source": [
    "##  Compiling and Evaluating a Binary Classification Model Using a Neural Network"
   ]
  },
  {
   "cell_type": "markdown",
   "id": "d53f3b69-5e90-48f2-90b0-5b6ccf719b32",
   "metadata": {},
   "source": [
    "* Creating a deep neural network by assigning the number of input features, the number of layers, and the number of neurons on each layer using Tensorflow’s Keras."
   ]
  },
  {
   "cell_type": "code",
   "execution_count": 15,
   "id": "1453f21f-6da5-423b-b461-4a9c675af228",
   "metadata": {
    "tags": []
   },
   "outputs": [
    {
     "data": {
      "text/plain": [
       "116"
      ]
     },
     "execution_count": 15,
     "metadata": {},
     "output_type": "execute_result"
    }
   ],
   "source": [
    "# Define the the number of inputs (features) to the model\n",
    "# To set the number of input features, you can fetch the length of the first element, like this: number_input_features = len(X_train.iloc[0])\n",
    "number_input_features = len(X_train.iloc[0])\n",
    "\n",
    "# Review the number of features\n",
    "number_input_features"
   ]
  },
  {
   "cell_type": "code",
   "execution_count": 16,
   "id": "67ace4d6-bfde-46b8-8693-d9542e7fa452",
   "metadata": {
    "tags": []
   },
   "outputs": [
    {
     "data": {
      "text/plain": [
       "58"
      ]
     },
     "execution_count": 16,
     "metadata": {},
     "output_type": "execute_result"
    }
   ],
   "source": [
    "# Define the number of hidden nodes for the first hidden layer\n",
    "# Use the mean of the number of input features plus the number of output neurons\n",
    "# Use the Python floor division (//) to return the quotent\n",
    "hidden_nodes_layer1 = (number_input_features + 1)//2\n",
    "\n",
    "# Review the first hidden layer\n",
    "hidden_nodes_layer1"
   ]
  },
  {
   "cell_type": "code",
   "execution_count": 17,
   "id": "ed8b21a8-3ea8-4269-a56b-5ede47c8b28c",
   "metadata": {
    "tags": []
   },
   "outputs": [
    {
     "data": {
      "text/plain": [
       "29"
      ]
     },
     "execution_count": 17,
     "metadata": {},
     "output_type": "execute_result"
    }
   ],
   "source": [
    "# Define the number of hidden nodes for the second hidden layer\n",
    "# Use the mean of the number of hidden nodes in the first hidden layer plus the number of output neurons\n",
    "# Use the Python floor division (//) to return the quotent\n",
    "hidden_nodes_layer2 = (hidden_nodes_layer1 + 1)//2\n",
    "\n",
    "# Review the second hidden layer\n",
    "hidden_nodes_layer2"
   ]
  },
  {
   "cell_type": "code",
   "execution_count": 18,
   "id": "3e32a5a1-999d-47c6-af3e-adaac86d9321",
   "metadata": {
    "tags": []
   },
   "outputs": [],
   "source": [
    "# Define the number of neurons in the output layer\n",
    "number_output_neurons = 1"
   ]
  },
  {
   "cell_type": "code",
   "execution_count": 19,
   "id": "f18c3aec-034d-4aaa-b501-a56c28cc8b0e",
   "metadata": {
    "tags": []
   },
   "outputs": [],
   "source": [
    "# Create the Sequential model instance\n",
    "nn = Sequential()"
   ]
  },
  {
   "cell_type": "code",
   "execution_count": 20,
   "id": "1b40cc37-bd18-4d88-ab9e-e532f5b972dd",
   "metadata": {
    "tags": []
   },
   "outputs": [],
   "source": [
    "# Add the first hidden layer specifying the number of inputs, the number of hidden nodes, and the activation function\n",
    "nn.add(Dense(units=hidden_nodes_layer1, input_dim=number_input_features, activation=\"relu\"))"
   ]
  },
  {
   "cell_type": "code",
   "execution_count": 21,
   "id": "b3eec2e9-abd7-4279-8cca-80400234d88f",
   "metadata": {
    "tags": []
   },
   "outputs": [],
   "source": [
    "# Add the second hidden layer specifying the number of hidden nodes and the activation function\n",
    "nn.add(Dense(units=hidden_nodes_layer2, activation=\"relu\"))"
   ]
  },
  {
   "cell_type": "code",
   "execution_count": 22,
   "id": "e854c762-1a85-4e6b-b65d-d233dd43b436",
   "metadata": {
    "tags": []
   },
   "outputs": [],
   "source": [
    "# Add the output layer to the model specifying the number of output neurons and activation function\n",
    "nn.add(Dense(units=number_output_neurons, activation=\"sigmoid\"))"
   ]
  },
  {
   "cell_type": "code",
   "execution_count": 23,
   "id": "209977d8-fbd4-4004-b353-1ad537220db9",
   "metadata": {
    "tags": []
   },
   "outputs": [
    {
     "name": "stdout",
     "output_type": "stream",
     "text": [
      "Model: \"sequential\"\n",
      "_________________________________________________________________\n",
      " Layer (type)                Output Shape              Param #   \n",
      "=================================================================\n",
      " dense (Dense)               (None, 58)                6786      \n",
      "                                                                 \n",
      " dense_1 (Dense)             (None, 29)                1711      \n",
      "                                                                 \n",
      " dense_2 (Dense)             (None, 1)                 30        \n",
      "                                                                 \n",
      "=================================================================\n",
      "Total params: 8527 (33.31 KB)\n",
      "Trainable params: 8527 (33.31 KB)\n",
      "Non-trainable params: 0 (0.00 Byte)\n",
      "_________________________________________________________________\n"
     ]
    }
   ],
   "source": [
    "# Display the Sequential model summary\n",
    "nn.summary()"
   ]
  },
  {
   "cell_type": "markdown",
   "id": "c46729fb-ad80-4ddb-b92a-7684866e0674",
   "metadata": {},
   "source": [
    "* Compiling and fitting the model using the `binary_crossentropy` loss function, the `adam` optimizer, and the `accuracy` evaluation metric."
   ]
  },
  {
   "cell_type": "code",
   "execution_count": 24,
   "id": "0214cbb6-e041-45a6-95e4-d58a8a03fbca",
   "metadata": {
    "tags": []
   },
   "outputs": [],
   "source": [
    "# Compile model\n",
    "nn.compile(loss=\"binary_crossentropy\", optimizer=\"adam\", metrics=[\"accuracy\"])"
   ]
  },
  {
   "cell_type": "code",
   "execution_count": 25,
   "id": "8818d51c-004b-45af-83bc-8f4d89ecadee",
   "metadata": {
    "tags": []
   },
   "outputs": [
    {
     "name": "stdout",
     "output_type": "stream",
     "text": [
      "Epoch 1/50\n",
      "804/804 [==============================] - 2s 3ms/step - loss: 0.5769 - accuracy: 0.7225\n",
      "Epoch 2/50\n",
      "804/804 [==============================] - 2s 3ms/step - loss: 0.5542 - accuracy: 0.7308\n",
      "Epoch 3/50\n",
      "804/804 [==============================] - 2s 3ms/step - loss: 0.5512 - accuracy: 0.7312\n",
      "Epoch 4/50\n",
      "804/804 [==============================] - 2s 3ms/step - loss: 0.5495 - accuracy: 0.7325\n",
      "Epoch 5/50\n",
      "804/804 [==============================] - 2s 3ms/step - loss: 0.5477 - accuracy: 0.7328\n",
      "Epoch 6/50\n",
      "804/804 [==============================] - 2s 3ms/step - loss: 0.5465 - accuracy: 0.7329\n",
      "Epoch 7/50\n",
      "804/804 [==============================] - 2s 3ms/step - loss: 0.5449 - accuracy: 0.7331\n",
      "Epoch 8/50\n",
      "804/804 [==============================] - 2s 3ms/step - loss: 0.5445 - accuracy: 0.7346\n",
      "Epoch 9/50\n",
      "804/804 [==============================] - 2s 3ms/step - loss: 0.5430 - accuracy: 0.7347\n",
      "Epoch 10/50\n",
      "804/804 [==============================] - 2s 3ms/step - loss: 0.5432 - accuracy: 0.7339\n",
      "Epoch 11/50\n",
      "804/804 [==============================] - 2s 3ms/step - loss: 0.5422 - accuracy: 0.7358\n",
      "Epoch 12/50\n",
      "804/804 [==============================] - 2s 3ms/step - loss: 0.5414 - accuracy: 0.7355\n",
      "Epoch 13/50\n",
      "804/804 [==============================] - 2s 3ms/step - loss: 0.5413 - accuracy: 0.7356\n",
      "Epoch 14/50\n",
      "804/804 [==============================] - 2s 3ms/step - loss: 0.5406 - accuracy: 0.7355\n",
      "Epoch 15/50\n",
      "804/804 [==============================] - 2s 3ms/step - loss: 0.5404 - accuracy: 0.7365\n",
      "Epoch 16/50\n",
      "804/804 [==============================] - 2s 3ms/step - loss: 0.5404 - accuracy: 0.7363\n",
      "Epoch 17/50\n",
      "804/804 [==============================] - 2s 3ms/step - loss: 0.5395 - accuracy: 0.7371\n",
      "Epoch 18/50\n",
      "804/804 [==============================] - 2s 3ms/step - loss: 0.5387 - accuracy: 0.7382\n",
      "Epoch 19/50\n",
      "804/804 [==============================] - 2s 3ms/step - loss: 0.5391 - accuracy: 0.7376\n",
      "Epoch 20/50\n",
      "804/804 [==============================] - 2s 3ms/step - loss: 0.5387 - accuracy: 0.7369\n",
      "Epoch 21/50\n",
      "804/804 [==============================] - 2s 3ms/step - loss: 0.5378 - accuracy: 0.7374\n",
      "Epoch 22/50\n",
      "804/804 [==============================] - 2s 3ms/step - loss: 0.5381 - accuracy: 0.7370\n",
      "Epoch 23/50\n",
      "804/804 [==============================] - 2s 3ms/step - loss: 0.5376 - accuracy: 0.7378\n",
      "Epoch 24/50\n",
      "804/804 [==============================] - 2s 3ms/step - loss: 0.5374 - accuracy: 0.7387\n",
      "Epoch 25/50\n",
      "804/804 [==============================] - 2s 3ms/step - loss: 0.5371 - accuracy: 0.7390\n",
      "Epoch 26/50\n",
      "804/804 [==============================] - 2s 3ms/step - loss: 0.5368 - accuracy: 0.7383\n",
      "Epoch 27/50\n",
      "804/804 [==============================] - 2s 3ms/step - loss: 0.5363 - accuracy: 0.7382\n",
      "Epoch 28/50\n",
      "804/804 [==============================] - 2s 3ms/step - loss: 0.5361 - accuracy: 0.7386\n",
      "Epoch 29/50\n",
      "804/804 [==============================] - 2s 3ms/step - loss: 0.5362 - accuracy: 0.7385\n",
      "Epoch 30/50\n",
      "804/804 [==============================] - 2s 3ms/step - loss: 0.5365 - accuracy: 0.7381\n",
      "Epoch 31/50\n",
      "804/804 [==============================] - 2s 3ms/step - loss: 0.5355 - accuracy: 0.7395\n",
      "Epoch 32/50\n",
      "804/804 [==============================] - 2s 3ms/step - loss: 0.5357 - accuracy: 0.7389\n",
      "Epoch 33/50\n",
      "804/804 [==============================] - 2s 3ms/step - loss: 0.5352 - accuracy: 0.7386\n",
      "Epoch 34/50\n",
      "804/804 [==============================] - 2s 3ms/step - loss: 0.5352 - accuracy: 0.7393\n",
      "Epoch 35/50\n",
      "804/804 [==============================] - 2s 3ms/step - loss: 0.5347 - accuracy: 0.7399\n",
      "Epoch 36/50\n",
      "804/804 [==============================] - 2s 3ms/step - loss: 0.5346 - accuracy: 0.7391\n",
      "Epoch 37/50\n",
      "804/804 [==============================] - 2s 3ms/step - loss: 0.5348 - accuracy: 0.7394\n",
      "Epoch 38/50\n",
      "804/804 [==============================] - 2s 3ms/step - loss: 0.5346 - accuracy: 0.7400\n",
      "Epoch 39/50\n",
      "804/804 [==============================] - 2s 3ms/step - loss: 0.5341 - accuracy: 0.7395\n",
      "Epoch 40/50\n",
      "804/804 [==============================] - 2s 3ms/step - loss: 0.5338 - accuracy: 0.7393\n",
      "Epoch 41/50\n",
      "804/804 [==============================] - 2s 3ms/step - loss: 0.5342 - accuracy: 0.7400\n",
      "Epoch 42/50\n",
      "804/804 [==============================] - 2s 3ms/step - loss: 0.5335 - accuracy: 0.7399\n",
      "Epoch 43/50\n",
      "804/804 [==============================] - 2s 3ms/step - loss: 0.5336 - accuracy: 0.7401\n",
      "Epoch 44/50\n",
      "804/804 [==============================] - 2s 3ms/step - loss: 0.5333 - accuracy: 0.7408\n",
      "Epoch 45/50\n",
      "804/804 [==============================] - 2s 3ms/step - loss: 0.5334 - accuracy: 0.7402\n",
      "Epoch 46/50\n",
      "804/804 [==============================] - 2s 3ms/step - loss: 0.5329 - accuracy: 0.7394\n",
      "Epoch 47/50\n",
      "804/804 [==============================] - 2s 3ms/step - loss: 0.5335 - accuracy: 0.7408\n",
      "Epoch 48/50\n",
      "804/804 [==============================] - 2s 3ms/step - loss: 0.5331 - accuracy: 0.7405\n",
      "Epoch 49/50\n",
      "804/804 [==============================] - 2s 3ms/step - loss: 0.5332 - accuracy: 0.7409\n",
      "Epoch 50/50\n",
      "804/804 [==============================] - 2s 3ms/step - loss: 0.5330 - accuracy: 0.7420\n"
     ]
    }
   ],
   "source": [
    "# Fit the model using 50 epochs and the training data\n",
    "model = nn.fit(X_train_scaled, y_train, epochs=50) "
   ]
  },
  {
   "cell_type": "code",
   "execution_count": 26,
   "id": "6291372f-a90b-4a5c-a53a-5191e01982ac",
   "metadata": {
    "tags": []
   },
   "outputs": [
    {
     "name": "stdout",
     "output_type": "stream",
     "text": [
      "268/268 - 1s - loss: 0.5554 - accuracy: 0.7292 - 717ms/epoch - 3ms/step\n",
      "Loss: 0.5554109811782837, Accuracy: 0.7292128205299377\n"
     ]
    }
   ],
   "source": [
    "# Evaluate the model loss and accuracy metrics using the evaluate method and the test data\n",
    "model_loss, model_accuracy = nn.evaluate(X_test_scaled, y_test, verbose=2)\n",
    "\n",
    "# Display the evaluation results\n",
    "print(f\"Loss: {model_loss}, Accuracy: {model_accuracy}\")"
   ]
  },
  {
   "cell_type": "code",
   "execution_count": 27,
   "id": "3d1c8d20-69ed-47f1-9370-e8869defac9b",
   "metadata": {
    "tags": []
   },
   "outputs": [
    {
     "name": "stdout",
     "output_type": "stream",
     "text": [
      "                                             0\n",
      "Loss                                  0.555411\n",
      "Accuracy                              0.729213\n",
      "Hidden layers                                2\n",
      "Input Features                             116\n",
      "Output Neurons                               1\n",
      "Neurons in Hidden Layers1                   58\n",
      "Neurons in Hidden Layers2                   29\n",
      "Epochs                                      50\n",
      "Activation Hidden layer 1                 relu\n",
      "Activation Hidden layer 2                 relu\n",
      "Activation Output layer 1              sigmoid\n",
      "loss                       binary_crossentropy\n",
      "optimizer                                 adam\n",
      "metrics                               accuracy\n"
     ]
    }
   ],
   "source": [
    "# Display the model loss and accuracy results\n",
    "results_df=pd.DataFrame(\n",
    "                    data={\n",
    "                        'Loss'    : [model_loss], \n",
    "                        'Accuracy': [model_accuracy],\n",
    "                        'Hidden layers': 2,\n",
    "                        'Input Features':[number_input_features],\n",
    "                        'Output Neurons': [number_output_neurons],\n",
    "                        'Neurons in Hidden Layers1' : [hidden_nodes_layer1],\n",
    "                        'Neurons in Hidden Layers2' : [hidden_nodes_layer2],\n",
    "                        'Epochs'         : 50,\n",
    "                        'Activation Hidden layer 1': ['relu'],\n",
    "                        'Activation Hidden layer 2': ['relu'],\n",
    "                        'Activation Output layer 1': ['sigmoid'],\n",
    "                        'loss':['binary_crossentropy'],\n",
    "                        'optimizer':['adam'],\n",
    "                        'metrics':['accuracy']\n",
    "\n",
    "                        \n",
    "                    })\n",
    "\n",
    "print(results_df.T)"
   ]
  },
  {
   "cell_type": "code",
   "execution_count": 28,
   "id": "da26c82c-772f-4cac-8b9c-4b4e4ef4b5e4",
   "metadata": {
    "tags": []
   },
   "outputs": [
    {
     "name": "stderr",
     "output_type": "stream",
     "text": [
      "C:\\Users\\prajw\\Anaconda3\\envs\\dev\\lib\\site-packages\\keras\\src\\engine\\training.py:3079: UserWarning: You are saving your model as an HDF5 file via `model.save()`. This file format is considered legacy. We recommend using instead the native Keras format, e.g. `model.save('my_model.keras')`.\n",
      "  saving_api.save_model(\n"
     ]
    }
   ],
   "source": [
    "# Set the file path where you want to save the model\n",
    "file_path = \"AlphabetSoup.h5\"\n",
    "\n",
    "# .h5 for HDF5\n",
    "# Save the Keras model to an HDF5 file\n",
    "nn.save(file_path)"
   ]
  },
  {
   "cell_type": "markdown",
   "id": "8e50742d-e378-4c44-b143-6e7d5e939b24",
   "metadata": {
    "tags": []
   },
   "source": [
    "## Optimizing the Neural Network Model"
   ]
  },
  {
   "cell_type": "markdown",
   "id": "fafa571c-cd26-4684-8aa9-087468d4bfdd",
   "metadata": {},
   "source": [
    "### Dropout Regularization"
   ]
  },
  {
   "cell_type": "markdown",
   "id": "4fc08e5e-73f1-4dce-bed5-b5b3467361a9",
   "metadata": {},
   "source": [
    "Dropout is a technique used to prevent overfitting by randomly setting a fraction of input units to 0 at each update during training. This technique can help in improving the generalization of the model by reducing overfitting."
   ]
  },
  {
   "cell_type": "code",
   "execution_count": 29,
   "id": "b643bdf9-af36-41b3-ba99-691e34146e8d",
   "metadata": {
    "tags": []
   },
   "outputs": [],
   "source": [
    "# Create the Sequential model instance\n",
    "dropout_model = Sequential()"
   ]
  },
  {
   "cell_type": "code",
   "execution_count": 30,
   "id": "566b16e8-8c95-48a9-ac52-16025ce2fe38",
   "metadata": {
    "tags": []
   },
   "outputs": [],
   "source": [
    "from tensorflow.keras.layers import Dropout"
   ]
  },
  {
   "cell_type": "code",
   "execution_count": 31,
   "id": "129de176-2c47-48d3-a15d-ef38caf73c2d",
   "metadata": {
    "tags": []
   },
   "outputs": [],
   "source": [
    "# Add the first hidden layer specifying the number of inputs, the number of hidden nodes, and the activation function\n",
    "dropout_model.add(Dense(units=hidden_nodes_layer1, input_dim=number_input_features, activation=\"relu\"))\n",
    "# Adding dropout\n",
    "dropout_model.add(Dropout(0.4))  # Dropout rate can be adjusted"
   ]
  },
  {
   "cell_type": "code",
   "execution_count": 32,
   "id": "84ddbccc-f5cd-4f15-a56a-b4a3e29ffa5d",
   "metadata": {
    "tags": []
   },
   "outputs": [],
   "source": [
    "# Add the second hidden layer specifying the number of hidden nodes and the activation function\n",
    "dropout_model.add(Dense(units=hidden_nodes_layer2, activation=\"relu\"))\n",
    "# Adding dropout\n",
    "dropout_model.add(Dropout(0.4))  # Dropout rate can be adjusted"
   ]
  },
  {
   "cell_type": "code",
   "execution_count": 33,
   "id": "824fa6a9-169c-4978-80cd-fe93c888295b",
   "metadata": {
    "tags": []
   },
   "outputs": [],
   "source": [
    "# Add the output layer to the model specifying the number of output neurons and activation function\n",
    "dropout_model.add(Dense(units=number_output_neurons, activation=\"sigmoid\"))"
   ]
  },
  {
   "cell_type": "code",
   "execution_count": 34,
   "id": "e7f39a1d-3091-4c19-ac58-3e3a83aab22e",
   "metadata": {
    "tags": []
   },
   "outputs": [
    {
     "name": "stdout",
     "output_type": "stream",
     "text": [
      "Model: \"sequential_1\"\n",
      "_________________________________________________________________\n",
      " Layer (type)                Output Shape              Param #   \n",
      "=================================================================\n",
      " dense_3 (Dense)             (None, 58)                6786      \n",
      "                                                                 \n",
      " dropout (Dropout)           (None, 58)                0         \n",
      "                                                                 \n",
      " dense_4 (Dense)             (None, 29)                1711      \n",
      "                                                                 \n",
      " dropout_1 (Dropout)         (None, 29)                0         \n",
      "                                                                 \n",
      " dense_5 (Dense)             (None, 1)                 30        \n",
      "                                                                 \n",
      "=================================================================\n",
      "Total params: 8527 (33.31 KB)\n",
      "Trainable params: 8527 (33.31 KB)\n",
      "Non-trainable params: 0 (0.00 Byte)\n",
      "_________________________________________________________________\n"
     ]
    }
   ],
   "source": [
    "# Display the Sequential model summary\n",
    "dropout_model.summary()"
   ]
  },
  {
   "cell_type": "code",
   "execution_count": 35,
   "id": "334c3688-7e30-49a1-af4e-7b36e9b40e64",
   "metadata": {
    "tags": []
   },
   "outputs": [],
   "source": [
    "# Compile model\n",
    "dropout_model.compile(loss=\"binary_crossentropy\", optimizer=\"adam\", metrics=[\"accuracy\"])"
   ]
  },
  {
   "cell_type": "code",
   "execution_count": 36,
   "id": "b3de8436-b17d-4fad-aa42-84110dd4cc4d",
   "metadata": {
    "tags": []
   },
   "outputs": [
    {
     "name": "stdout",
     "output_type": "stream",
     "text": [
      "Epoch 1/100\n",
      "804/804 [==============================] - 4s 3ms/step - loss: 0.6353 - accuracy: 0.6875\n",
      "Epoch 2/100\n",
      "804/804 [==============================] - 2s 3ms/step - loss: 0.5918 - accuracy: 0.7159\n",
      "Epoch 3/100\n",
      "804/804 [==============================] - 2s 3ms/step - loss: 0.5775 - accuracy: 0.7219\n",
      "Epoch 4/100\n",
      "804/804 [==============================] - 2s 3ms/step - loss: 0.5734 - accuracy: 0.7226\n",
      "Epoch 5/100\n",
      "804/804 [==============================] - 2s 3ms/step - loss: 0.5664 - accuracy: 0.7276\n",
      "Epoch 6/100\n",
      "804/804 [==============================] - 3s 3ms/step - loss: 0.5662 - accuracy: 0.7277\n",
      "Epoch 7/100\n",
      "804/804 [==============================] - 3s 3ms/step - loss: 0.5636 - accuracy: 0.7256\n",
      "Epoch 8/100\n",
      "804/804 [==============================] - 2s 3ms/step - loss: 0.5611 - accuracy: 0.7271\n",
      "Epoch 9/100\n",
      "804/804 [==============================] - 2s 3ms/step - loss: 0.5585 - accuracy: 0.7296\n",
      "Epoch 10/100\n",
      "804/804 [==============================] - 2s 3ms/step - loss: 0.5608 - accuracy: 0.7275\n",
      "Epoch 11/100\n",
      "804/804 [==============================] - 2s 3ms/step - loss: 0.5596 - accuracy: 0.7300\n",
      "Epoch 12/100\n",
      "804/804 [==============================] - 2s 3ms/step - loss: 0.5593 - accuracy: 0.7278\n",
      "Epoch 13/100\n",
      "804/804 [==============================] - 2s 3ms/step - loss: 0.5591 - accuracy: 0.7290\n",
      "Epoch 14/100\n",
      "804/804 [==============================] - 2s 3ms/step - loss: 0.5563 - accuracy: 0.7304\n",
      "Epoch 15/100\n",
      "804/804 [==============================] - 2s 3ms/step - loss: 0.5570 - accuracy: 0.7283\n",
      "Epoch 16/100\n",
      "804/804 [==============================] - 2s 3ms/step - loss: 0.5568 - accuracy: 0.7305\n",
      "Epoch 17/100\n",
      "804/804 [==============================] - 2s 3ms/step - loss: 0.5553 - accuracy: 0.7295\n",
      "Epoch 18/100\n",
      "804/804 [==============================] - 2s 3ms/step - loss: 0.5533 - accuracy: 0.7305\n",
      "Epoch 19/100\n",
      "804/804 [==============================] - 2s 3ms/step - loss: 0.5546 - accuracy: 0.7317\n",
      "Epoch 20/100\n",
      "804/804 [==============================] - 2s 3ms/step - loss: 0.5539 - accuracy: 0.7315\n",
      "Epoch 21/100\n",
      "804/804 [==============================] - 2s 3ms/step - loss: 0.5555 - accuracy: 0.7280\n",
      "Epoch 22/100\n",
      "804/804 [==============================] - 2s 3ms/step - loss: 0.5529 - accuracy: 0.7300\n",
      "Epoch 23/100\n",
      "804/804 [==============================] - 2s 3ms/step - loss: 0.5541 - accuracy: 0.7303\n",
      "Epoch 24/100\n",
      "804/804 [==============================] - 2s 3ms/step - loss: 0.5542 - accuracy: 0.7310\n",
      "Epoch 25/100\n",
      "804/804 [==============================] - 2s 3ms/step - loss: 0.5542 - accuracy: 0.7322\n",
      "Epoch 26/100\n",
      "804/804 [==============================] - 2s 3ms/step - loss: 0.5541 - accuracy: 0.7297\n",
      "Epoch 27/100\n",
      "804/804 [==============================] - 2s 3ms/step - loss: 0.5522 - accuracy: 0.7312\n",
      "Epoch 28/100\n",
      "804/804 [==============================] - 2s 3ms/step - loss: 0.5530 - accuracy: 0.7307\n",
      "Epoch 29/100\n",
      "804/804 [==============================] - 2s 3ms/step - loss: 0.5518 - accuracy: 0.7313\n",
      "Epoch 30/100\n",
      "804/804 [==============================] - 2s 3ms/step - loss: 0.5533 - accuracy: 0.7319\n",
      "Epoch 31/100\n",
      "804/804 [==============================] - 2s 3ms/step - loss: 0.5530 - accuracy: 0.7336\n",
      "Epoch 32/100\n",
      "804/804 [==============================] - 2s 3ms/step - loss: 0.5505 - accuracy: 0.7321\n",
      "Epoch 33/100\n",
      "804/804 [==============================] - 2s 3ms/step - loss: 0.5517 - accuracy: 0.7316\n",
      "Epoch 34/100\n",
      "804/804 [==============================] - 2s 3ms/step - loss: 0.5531 - accuracy: 0.7317\n",
      "Epoch 35/100\n",
      "804/804 [==============================] - 2s 3ms/step - loss: 0.5514 - accuracy: 0.7322\n",
      "Epoch 36/100\n",
      "804/804 [==============================] - 2s 3ms/step - loss: 0.5524 - accuracy: 0.7306\n",
      "Epoch 37/100\n",
      "804/804 [==============================] - 2s 3ms/step - loss: 0.5522 - accuracy: 0.7325\n",
      "Epoch 38/100\n",
      "804/804 [==============================] - 2s 3ms/step - loss: 0.5509 - accuracy: 0.7325\n",
      "Epoch 39/100\n",
      "804/804 [==============================] - 2s 3ms/step - loss: 0.5503 - accuracy: 0.7336\n",
      "Epoch 40/100\n",
      "804/804 [==============================] - 2s 3ms/step - loss: 0.5521 - accuracy: 0.7323\n",
      "Epoch 41/100\n",
      "804/804 [==============================] - 2s 3ms/step - loss: 0.5496 - accuracy: 0.7330\n",
      "Epoch 42/100\n",
      "804/804 [==============================] - 2s 3ms/step - loss: 0.5512 - accuracy: 0.7308\n",
      "Epoch 43/100\n",
      "804/804 [==============================] - 2s 3ms/step - loss: 0.5505 - accuracy: 0.7334\n",
      "Epoch 44/100\n",
      "804/804 [==============================] - 2s 3ms/step - loss: 0.5489 - accuracy: 0.7328\n",
      "Epoch 45/100\n",
      "804/804 [==============================] - 2s 3ms/step - loss: 0.5501 - accuracy: 0.7336\n",
      "Epoch 46/100\n",
      "804/804 [==============================] - 2s 3ms/step - loss: 0.5500 - accuracy: 0.7306\n",
      "Epoch 47/100\n",
      "804/804 [==============================] - 2s 3ms/step - loss: 0.5503 - accuracy: 0.7337\n",
      "Epoch 48/100\n",
      "804/804 [==============================] - 2s 3ms/step - loss: 0.5518 - accuracy: 0.7329\n",
      "Epoch 49/100\n",
      "804/804 [==============================] - 2s 3ms/step - loss: 0.5499 - accuracy: 0.7328\n",
      "Epoch 50/100\n",
      "804/804 [==============================] - 2s 3ms/step - loss: 0.5503 - accuracy: 0.7316\n",
      "Epoch 51/100\n",
      "804/804 [==============================] - 2s 3ms/step - loss: 0.5487 - accuracy: 0.7330\n",
      "Epoch 52/100\n",
      "804/804 [==============================] - 2s 3ms/step - loss: 0.5504 - accuracy: 0.7317\n",
      "Epoch 53/100\n",
      "804/804 [==============================] - 3s 3ms/step - loss: 0.5481 - accuracy: 0.7338\n",
      "Epoch 54/100\n",
      "804/804 [==============================] - 2s 3ms/step - loss: 0.5496 - accuracy: 0.7338\n",
      "Epoch 55/100\n",
      "804/804 [==============================] - 2s 3ms/step - loss: 0.5493 - accuracy: 0.7335\n",
      "Epoch 56/100\n",
      "804/804 [==============================] - 2s 3ms/step - loss: 0.5491 - accuracy: 0.7329\n",
      "Epoch 57/100\n",
      "804/804 [==============================] - 2s 3ms/step - loss: 0.5498 - accuracy: 0.7326\n",
      "Epoch 58/100\n",
      "804/804 [==============================] - 2s 3ms/step - loss: 0.5491 - accuracy: 0.7329\n",
      "Epoch 59/100\n",
      "804/804 [==============================] - 2s 3ms/step - loss: 0.5482 - accuracy: 0.7326\n",
      "Epoch 60/100\n",
      "804/804 [==============================] - 2s 3ms/step - loss: 0.5494 - accuracy: 0.7318\n",
      "Epoch 61/100\n",
      "804/804 [==============================] - 2s 3ms/step - loss: 0.5490 - accuracy: 0.7354\n",
      "Epoch 62/100\n",
      "804/804 [==============================] - 2s 3ms/step - loss: 0.5479 - accuracy: 0.7328\n",
      "Epoch 63/100\n",
      "804/804 [==============================] - 2s 3ms/step - loss: 0.5500 - accuracy: 0.7323\n",
      "Epoch 64/100\n",
      "804/804 [==============================] - 2s 3ms/step - loss: 0.5505 - accuracy: 0.7348\n",
      "Epoch 65/100\n",
      "804/804 [==============================] - 2s 3ms/step - loss: 0.5498 - accuracy: 0.7354\n",
      "Epoch 66/100\n",
      "804/804 [==============================] - 2s 3ms/step - loss: 0.5481 - accuracy: 0.7341\n",
      "Epoch 67/100\n",
      "804/804 [==============================] - 2s 3ms/step - loss: 0.5484 - accuracy: 0.7339\n",
      "Epoch 68/100\n",
      "804/804 [==============================] - 2s 3ms/step - loss: 0.5487 - accuracy: 0.7339\n",
      "Epoch 69/100\n",
      "804/804 [==============================] - 2s 3ms/step - loss: 0.5502 - accuracy: 0.7333\n",
      "Epoch 70/100\n",
      "804/804 [==============================] - 2s 3ms/step - loss: 0.5475 - accuracy: 0.7351\n",
      "Epoch 71/100\n",
      "804/804 [==============================] - 2s 3ms/step - loss: 0.5487 - accuracy: 0.7325\n",
      "Epoch 72/100\n",
      "804/804 [==============================] - 2s 3ms/step - loss: 0.5483 - accuracy: 0.7339\n",
      "Epoch 73/100\n",
      "804/804 [==============================] - 2s 3ms/step - loss: 0.5490 - accuracy: 0.7340\n",
      "Epoch 74/100\n",
      "804/804 [==============================] - 2s 3ms/step - loss: 0.5478 - accuracy: 0.7344\n",
      "Epoch 75/100\n",
      "804/804 [==============================] - 2s 3ms/step - loss: 0.5466 - accuracy: 0.7342\n",
      "Epoch 76/100\n",
      "804/804 [==============================] - 2s 3ms/step - loss: 0.5501 - accuracy: 0.7335\n",
      "Epoch 77/100\n",
      "804/804 [==============================] - 2s 3ms/step - loss: 0.5483 - accuracy: 0.7324\n",
      "Epoch 78/100\n",
      "804/804 [==============================] - 2s 3ms/step - loss: 0.5485 - accuracy: 0.7334\n",
      "Epoch 79/100\n",
      "804/804 [==============================] - 3s 3ms/step - loss: 0.5465 - accuracy: 0.7341\n",
      "Epoch 80/100\n",
      "804/804 [==============================] - 3s 3ms/step - loss: 0.5478 - accuracy: 0.7360\n",
      "Epoch 81/100\n",
      "804/804 [==============================] - 2s 3ms/step - loss: 0.5470 - accuracy: 0.7346\n",
      "Epoch 82/100\n",
      "804/804 [==============================] - 2s 3ms/step - loss: 0.5461 - accuracy: 0.7349\n",
      "Epoch 83/100\n",
      "804/804 [==============================] - 2s 3ms/step - loss: 0.5477 - accuracy: 0.7340\n",
      "Epoch 84/100\n",
      "804/804 [==============================] - 2s 3ms/step - loss: 0.5460 - accuracy: 0.7341\n",
      "Epoch 85/100\n",
      "804/804 [==============================] - 2s 3ms/step - loss: 0.5474 - accuracy: 0.7344\n",
      "Epoch 86/100\n",
      "804/804 [==============================] - 2s 3ms/step - loss: 0.5462 - accuracy: 0.7339\n",
      "Epoch 87/100\n",
      "804/804 [==============================] - 3s 3ms/step - loss: 0.5474 - accuracy: 0.7346\n",
      "Epoch 88/100\n",
      "804/804 [==============================] - 2s 3ms/step - loss: 0.5476 - accuracy: 0.7350\n",
      "Epoch 89/100\n",
      "804/804 [==============================] - 2s 3ms/step - loss: 0.5480 - accuracy: 0.7336\n",
      "Epoch 90/100\n",
      "804/804 [==============================] - 2s 3ms/step - loss: 0.5479 - accuracy: 0.7345\n",
      "Epoch 91/100\n",
      "804/804 [==============================] - 2s 3ms/step - loss: 0.5462 - accuracy: 0.7348\n",
      "Epoch 92/100\n",
      "804/804 [==============================] - 2s 3ms/step - loss: 0.5463 - accuracy: 0.7360\n",
      "Epoch 93/100\n",
      "804/804 [==============================] - 2s 3ms/step - loss: 0.5475 - accuracy: 0.7334\n",
      "Epoch 94/100\n",
      "804/804 [==============================] - 2s 3ms/step - loss: 0.5473 - accuracy: 0.7341\n",
      "Epoch 95/100\n",
      "804/804 [==============================] - 2s 3ms/step - loss: 0.5459 - accuracy: 0.7341\n",
      "Epoch 96/100\n",
      "804/804 [==============================] - 2s 3ms/step - loss: 0.5496 - accuracy: 0.7339\n",
      "Epoch 97/100\n",
      "804/804 [==============================] - 2s 3ms/step - loss: 0.5499 - accuracy: 0.7337\n",
      "Epoch 98/100\n",
      "804/804 [==============================] - 2s 3ms/step - loss: 0.5450 - accuracy: 0.7358\n",
      "Epoch 99/100\n",
      "804/804 [==============================] - 2s 3ms/step - loss: 0.5468 - accuracy: 0.7339\n",
      "Epoch 100/100\n",
      "804/804 [==============================] - 2s 3ms/step - loss: 0.5480 - accuracy: 0.7345\n"
     ]
    }
   ],
   "source": [
    "# Fit the model using 100 epochs and the training data\n",
    "model_1 = dropout_model.fit(X_train_scaled, y_train, epochs=100) "
   ]
  },
  {
   "cell_type": "code",
   "execution_count": 37,
   "id": "179d0834-50ef-4d5b-bcc9-16e29d0928b8",
   "metadata": {
    "tags": []
   },
   "outputs": [
    {
     "name": "stdout",
     "output_type": "stream",
     "text": [
      "268/268 - 1s - loss: 0.5537 - accuracy: 0.7293 - 707ms/epoch - 3ms/step\n"
     ]
    }
   ],
   "source": [
    "# Evaluate the model loss and accuracy metrics using the evaluate method and the test data\n",
    "model_loss_1, model_accuracy_1 = dropout_model.evaluate(X_test_scaled, y_test, verbose=2)"
   ]
  },
  {
   "cell_type": "code",
   "execution_count": 38,
   "id": "c0fbf5da-71d9-43da-9f2a-1527eaeb5441",
   "metadata": {
    "tags": []
   },
   "outputs": [
    {
     "name": "stdout",
     "output_type": "stream",
     "text": [
      "                                             0\n",
      "Loss                                   0.55367\n",
      "Accuracy                              0.729329\n",
      "Hidden layers                                2\n",
      "Input Features                             116\n",
      "Output Neurons                               1\n",
      "Neurons in Hidden Layers1                   58\n",
      "Neurons in Hidden Layers2                   29\n",
      "Epochs                                      50\n",
      "Activation Hidden layer 1                 relu\n",
      "Activation Hidden layer 2                 relu\n",
      "Activation Output layer 1              sigmoid\n",
      "loss                       binary_crossentropy\n",
      "optimizer                                 adam\n",
      "metrics                               accuracy\n"
     ]
    }
   ],
   "source": [
    "# Display the model loss and accuracy results\n",
    "results_dropout_model_df = pd.DataFrame(\n",
    "                    data={\n",
    "                        'Loss'    : [model_loss_1], \n",
    "                        'Accuracy': [model_accuracy_1],\n",
    "                        'Hidden layers': 2,\n",
    "                        'Input Features':[number_input_features],\n",
    "                        'Output Neurons': [number_output_neurons],\n",
    "                        'Neurons in Hidden Layers1' : [hidden_nodes_layer1],\n",
    "                        'Neurons in Hidden Layers2' : [hidden_nodes_layer2],\n",
    "                        'Epochs'         : 50,\n",
    "                        'Activation Hidden layer 1': ['relu'],\n",
    "                        'Activation Hidden layer 2': ['relu'],\n",
    "                        'Activation Output layer 1': ['sigmoid'],\n",
    "                        'loss':['binary_crossentropy'],\n",
    "                        'optimizer':['adam'],\n",
    "                        'metrics':['accuracy']\n",
    "\n",
    "                        \n",
    "                    })\n",
    "\n",
    "print(results_dropout_model_df.T)"
   ]
  },
  {
   "cell_type": "code",
   "execution_count": 39,
   "id": "9d8e67cf-875a-451e-a7fb-659ed4cc7a87",
   "metadata": {},
   "outputs": [
    {
     "name": "stderr",
     "output_type": "stream",
     "text": [
      "C:\\Users\\prajw\\Anaconda3\\envs\\dev\\lib\\site-packages\\keras\\src\\engine\\training.py:3079: UserWarning: You are saving your model as an HDF5 file via `model.save()`. This file format is considered legacy. We recommend using instead the native Keras format, e.g. `model.save('my_model.keras')`.\n",
      "  saving_api.save_model(\n"
     ]
    }
   ],
   "source": [
    "# Set the file path where you want to save the model\n",
    "file_path = \"AlphabetSoup_DropOut.h5\"\n",
    "\n",
    "# .h5 for HDF5\n",
    "# Save the Keras model to an HDF5 file\n",
    "dropout_model.save(file_path)"
   ]
  },
  {
   "cell_type": "markdown",
   "id": "c2a4a35f-a96e-4911-9279-833a36afd07d",
   "metadata": {
    "tags": []
   },
   "source": [
    "### Batch Normalization"
   ]
  },
  {
   "cell_type": "markdown",
   "id": "59b23d6a-5c9f-4a2d-8bd4-40bb4a559e3c",
   "metadata": {},
   "source": [
    "Batch normalization normalizes the activations of each layer in a network, which can help in speeding up the training process and potentially improve accuracy. It helps in reducing internal covariate shift, making the model more robust."
   ]
  },
  {
   "cell_type": "code",
   "execution_count": 40,
   "id": "029fe66a-fc13-4115-a3a0-a6e8c7b94a0d",
   "metadata": {
    "tags": []
   },
   "outputs": [],
   "source": [
    "# Create the Sequential model instance\n",
    "batch_norm_model = Sequential()"
   ]
  },
  {
   "cell_type": "code",
   "execution_count": 41,
   "id": "39464204-1605-4e4e-94da-5ea0d3caec28",
   "metadata": {
    "tags": []
   },
   "outputs": [],
   "source": [
    "from tensorflow.keras.layers import BatchNormalization"
   ]
  },
  {
   "cell_type": "code",
   "execution_count": 42,
   "id": "85c7d15b-7022-4b55-aaeb-6811ff5f5994",
   "metadata": {
    "tags": []
   },
   "outputs": [],
   "source": [
    "# Add the first hidden layer specifying the number of inputs, the number of hidden nodes, and the activation function\n",
    "batch_norm_model.add(Dense(units=hidden_nodes_layer1, input_dim=number_input_features))\n",
    "batch_norm_model.add(BatchNormalization())\n",
    "batch_norm_model.add(Activation('relu'))"
   ]
  },
  {
   "cell_type": "code",
   "execution_count": 43,
   "id": "dac9f3b0-5383-49a2-86a5-cff91f97f74f",
   "metadata": {
    "tags": []
   },
   "outputs": [],
   "source": [
    "# Add the second hidden layer specifying the number of hidden nodes and the activation function\n",
    "batch_norm_model.add(Dense(units=hidden_nodes_layer2))\n",
    "batch_norm_model.add(BatchNormalization())\n",
    "batch_norm_model.add(Activation('relu'))"
   ]
  },
  {
   "cell_type": "code",
   "execution_count": 44,
   "id": "e63c0cf2-656f-46ae-9882-6b6a37b63d14",
   "metadata": {
    "tags": []
   },
   "outputs": [],
   "source": [
    "# Add the output layer to the model specifying the number of output neurons and activation function\n",
    "batch_norm_model.add(Dense(units=number_output_neurons, activation=\"sigmoid\"))"
   ]
  },
  {
   "cell_type": "code",
   "execution_count": 45,
   "id": "ab4a3d36-d83e-429e-b138-986909c3b488",
   "metadata": {
    "tags": []
   },
   "outputs": [
    {
     "name": "stdout",
     "output_type": "stream",
     "text": [
      "Model: \"sequential_2\"\n",
      "_________________________________________________________________\n",
      " Layer (type)                Output Shape              Param #   \n",
      "=================================================================\n",
      " dense_6 (Dense)             (None, 58)                6786      \n",
      "                                                                 \n",
      " batch_normalization (Batch  (None, 58)                232       \n",
      " Normalization)                                                  \n",
      "                                                                 \n",
      " activation (Activation)     (None, 58)                0         \n",
      "                                                                 \n",
      " dense_7 (Dense)             (None, 29)                1711      \n",
      "                                                                 \n",
      " batch_normalization_1 (Bat  (None, 29)                116       \n",
      " chNormalization)                                                \n",
      "                                                                 \n",
      " activation_1 (Activation)   (None, 29)                0         \n",
      "                                                                 \n",
      " dense_8 (Dense)             (None, 1)                 30        \n",
      "                                                                 \n",
      "=================================================================\n",
      "Total params: 8875 (34.67 KB)\n",
      "Trainable params: 8701 (33.99 KB)\n",
      "Non-trainable params: 174 (696.00 Byte)\n",
      "_________________________________________________________________\n"
     ]
    }
   ],
   "source": [
    "# Display the Sequential model summary\n",
    "batch_norm_model.summary()"
   ]
  },
  {
   "cell_type": "code",
   "execution_count": 46,
   "id": "ea6948eb-2314-478c-9a29-1d8fd26e1861",
   "metadata": {
    "tags": []
   },
   "outputs": [],
   "source": [
    "# Compile model\n",
    "batch_norm_model.compile(loss=\"binary_crossentropy\", optimizer=\"adam\", metrics=[\"accuracy\"])"
   ]
  },
  {
   "cell_type": "code",
   "execution_count": 47,
   "id": "80f203a8-8f37-4056-8aee-f0c22cf813a3",
   "metadata": {
    "tags": []
   },
   "outputs": [
    {
     "name": "stdout",
     "output_type": "stream",
     "text": [
      "Epoch 1/100\n",
      "804/804 [==============================] - 4s 3ms/step - loss: 0.5850 - accuracy: 0.7078\n",
      "Epoch 2/100\n",
      "804/804 [==============================] - 3s 3ms/step - loss: 0.5631 - accuracy: 0.7262\n",
      "Epoch 3/100\n",
      "804/804 [==============================] - 3s 3ms/step - loss: 0.5572 - accuracy: 0.7281\n",
      "Epoch 4/100\n",
      "804/804 [==============================] - 3s 4ms/step - loss: 0.5560 - accuracy: 0.7271\n",
      "Epoch 5/100\n",
      "804/804 [==============================] - 3s 3ms/step - loss: 0.5537 - accuracy: 0.7280\n",
      "Epoch 6/100\n",
      "804/804 [==============================] - 3s 3ms/step - loss: 0.5518 - accuracy: 0.7309\n",
      "Epoch 7/100\n",
      "804/804 [==============================] - 3s 4ms/step - loss: 0.5509 - accuracy: 0.7297\n",
      "Epoch 8/100\n",
      "804/804 [==============================] - 3s 4ms/step - loss: 0.5510 - accuracy: 0.7305\n",
      "Epoch 9/100\n",
      "804/804 [==============================] - 3s 4ms/step - loss: 0.5500 - accuracy: 0.7323\n",
      "Epoch 10/100\n",
      "804/804 [==============================] - 3s 3ms/step - loss: 0.5491 - accuracy: 0.7311\n",
      "Epoch 11/100\n",
      "804/804 [==============================] - 3s 4ms/step - loss: 0.5484 - accuracy: 0.7332\n",
      "Epoch 12/100\n",
      "804/804 [==============================] - 3s 3ms/step - loss: 0.5478 - accuracy: 0.7327\n",
      "Epoch 13/100\n",
      "804/804 [==============================] - 3s 3ms/step - loss: 0.5463 - accuracy: 0.7337\n",
      "Epoch 14/100\n",
      "804/804 [==============================] - 3s 4ms/step - loss: 0.5468 - accuracy: 0.7335\n",
      "Epoch 15/100\n",
      "804/804 [==============================] - 3s 3ms/step - loss: 0.5461 - accuracy: 0.7343\n",
      "Epoch 16/100\n",
      "804/804 [==============================] - 3s 3ms/step - loss: 0.5471 - accuracy: 0.7345\n",
      "Epoch 17/100\n",
      "804/804 [==============================] - 3s 3ms/step - loss: 0.5453 - accuracy: 0.7345\n",
      "Epoch 18/100\n",
      "804/804 [==============================] - 3s 3ms/step - loss: 0.5442 - accuracy: 0.7338\n",
      "Epoch 19/100\n",
      "804/804 [==============================] - 3s 3ms/step - loss: 0.5446 - accuracy: 0.7344\n",
      "Epoch 20/100\n",
      "804/804 [==============================] - 3s 3ms/step - loss: 0.5439 - accuracy: 0.7354\n",
      "Epoch 21/100\n",
      "804/804 [==============================] - 3s 3ms/step - loss: 0.5451 - accuracy: 0.7334\n",
      "Epoch 22/100\n",
      "804/804 [==============================] - 3s 3ms/step - loss: 0.5451 - accuracy: 0.7347\n",
      "Epoch 23/100\n",
      "804/804 [==============================] - 3s 3ms/step - loss: 0.5427 - accuracy: 0.7340\n",
      "Epoch 24/100\n",
      "804/804 [==============================] - 3s 3ms/step - loss: 0.5428 - accuracy: 0.7356\n",
      "Epoch 25/100\n",
      "804/804 [==============================] - 3s 3ms/step - loss: 0.5434 - accuracy: 0.7359\n",
      "Epoch 26/100\n",
      "804/804 [==============================] - 3s 3ms/step - loss: 0.5430 - accuracy: 0.7363\n",
      "Epoch 27/100\n",
      "804/804 [==============================] - 3s 3ms/step - loss: 0.5419 - accuracy: 0.7359\n",
      "Epoch 28/100\n",
      "804/804 [==============================] - 3s 3ms/step - loss: 0.5429 - accuracy: 0.7366\n",
      "Epoch 29/100\n",
      "804/804 [==============================] - 3s 3ms/step - loss: 0.5429 - accuracy: 0.7355\n",
      "Epoch 30/100\n",
      "804/804 [==============================] - 3s 3ms/step - loss: 0.5417 - accuracy: 0.7355\n",
      "Epoch 31/100\n",
      "804/804 [==============================] - 3s 3ms/step - loss: 0.5420 - accuracy: 0.7376\n",
      "Epoch 32/100\n",
      "804/804 [==============================] - 3s 4ms/step - loss: 0.5417 - accuracy: 0.7357\n",
      "Epoch 33/100\n",
      "804/804 [==============================] - 3s 3ms/step - loss: 0.5417 - accuracy: 0.7362\n",
      "Epoch 34/100\n",
      "804/804 [==============================] - 3s 3ms/step - loss: 0.5416 - accuracy: 0.7365\n",
      "Epoch 35/100\n",
      "804/804 [==============================] - 3s 4ms/step - loss: 0.5406 - accuracy: 0.7375\n",
      "Epoch 36/100\n",
      "804/804 [==============================] - 3s 3ms/step - loss: 0.5423 - accuracy: 0.7356\n",
      "Epoch 37/100\n",
      "804/804 [==============================] - 3s 4ms/step - loss: 0.5411 - accuracy: 0.7357\n",
      "Epoch 38/100\n",
      "804/804 [==============================] - 3s 4ms/step - loss: 0.5409 - accuracy: 0.7364\n",
      "Epoch 39/100\n",
      "804/804 [==============================] - 3s 3ms/step - loss: 0.5406 - accuracy: 0.7372\n",
      "Epoch 40/100\n",
      "804/804 [==============================] - 3s 3ms/step - loss: 0.5404 - accuracy: 0.7381\n",
      "Epoch 41/100\n",
      "804/804 [==============================] - 3s 3ms/step - loss: 0.5396 - accuracy: 0.7356\n",
      "Epoch 42/100\n",
      "804/804 [==============================] - 3s 3ms/step - loss: 0.5402 - accuracy: 0.7373\n",
      "Epoch 43/100\n",
      "804/804 [==============================] - 3s 3ms/step - loss: 0.5389 - accuracy: 0.7384\n",
      "Epoch 44/100\n",
      "804/804 [==============================] - 3s 3ms/step - loss: 0.5401 - accuracy: 0.7361\n",
      "Epoch 45/100\n",
      "804/804 [==============================] - 3s 4ms/step - loss: 0.5398 - accuracy: 0.7375\n",
      "Epoch 46/100\n",
      "804/804 [==============================] - 3s 3ms/step - loss: 0.5395 - accuracy: 0.7382\n",
      "Epoch 47/100\n",
      "804/804 [==============================] - 3s 3ms/step - loss: 0.5392 - accuracy: 0.7380\n",
      "Epoch 48/100\n",
      "804/804 [==============================] - 3s 3ms/step - loss: 0.5385 - accuracy: 0.7381\n",
      "Epoch 49/100\n",
      "804/804 [==============================] - 3s 3ms/step - loss: 0.5403 - accuracy: 0.7372\n",
      "Epoch 50/100\n",
      "804/804 [==============================] - 3s 4ms/step - loss: 0.5394 - accuracy: 0.7365\n",
      "Epoch 51/100\n",
      "804/804 [==============================] - 3s 4ms/step - loss: 0.5393 - accuracy: 0.7388\n",
      "Epoch 52/100\n",
      "804/804 [==============================] - 3s 4ms/step - loss: 0.5399 - accuracy: 0.7368\n",
      "Epoch 53/100\n",
      "804/804 [==============================] - 3s 3ms/step - loss: 0.5383 - accuracy: 0.7363\n",
      "Epoch 54/100\n",
      "804/804 [==============================] - 3s 4ms/step - loss: 0.5385 - accuracy: 0.7395\n",
      "Epoch 55/100\n",
      "804/804 [==============================] - 3s 4ms/step - loss: 0.5386 - accuracy: 0.7378\n",
      "Epoch 56/100\n",
      "804/804 [==============================] - 3s 3ms/step - loss: 0.5383 - accuracy: 0.7372\n",
      "Epoch 57/100\n",
      "804/804 [==============================] - 3s 3ms/step - loss: 0.5389 - accuracy: 0.7376\n",
      "Epoch 58/100\n",
      "804/804 [==============================] - 3s 3ms/step - loss: 0.5379 - accuracy: 0.7390\n",
      "Epoch 59/100\n",
      "804/804 [==============================] - 3s 3ms/step - loss: 0.5385 - accuracy: 0.7382\n",
      "Epoch 60/100\n",
      "804/804 [==============================] - 3s 3ms/step - loss: 0.5375 - accuracy: 0.7391\n",
      "Epoch 61/100\n",
      "804/804 [==============================] - 3s 3ms/step - loss: 0.5382 - accuracy: 0.7388\n",
      "Epoch 62/100\n",
      "804/804 [==============================] - 3s 3ms/step - loss: 0.5377 - accuracy: 0.7379\n",
      "Epoch 63/100\n",
      "804/804 [==============================] - 3s 3ms/step - loss: 0.5397 - accuracy: 0.7385\n",
      "Epoch 64/100\n",
      "804/804 [==============================] - 3s 3ms/step - loss: 0.5370 - accuracy: 0.7367\n",
      "Epoch 65/100\n",
      "804/804 [==============================] - 3s 3ms/step - loss: 0.5366 - accuracy: 0.7375\n",
      "Epoch 66/100\n",
      "804/804 [==============================] - 3s 3ms/step - loss: 0.5376 - accuracy: 0.7380\n",
      "Epoch 67/100\n",
      "804/804 [==============================] - 3s 3ms/step - loss: 0.5373 - accuracy: 0.7382\n",
      "Epoch 68/100\n",
      "804/804 [==============================] - 3s 3ms/step - loss: 0.5370 - accuracy: 0.7397\n",
      "Epoch 69/100\n",
      "804/804 [==============================] - 3s 3ms/step - loss: 0.5367 - accuracy: 0.7385\n",
      "Epoch 70/100\n",
      "804/804 [==============================] - 3s 3ms/step - loss: 0.5378 - accuracy: 0.7393\n",
      "Epoch 71/100\n",
      "804/804 [==============================] - 3s 3ms/step - loss: 0.5369 - accuracy: 0.7384\n",
      "Epoch 72/100\n",
      "804/804 [==============================] - 3s 3ms/step - loss: 0.5377 - accuracy: 0.7390\n",
      "Epoch 73/100\n",
      "804/804 [==============================] - 3s 3ms/step - loss: 0.5368 - accuracy: 0.7397\n",
      "Epoch 74/100\n",
      "804/804 [==============================] - 3s 3ms/step - loss: 0.5358 - accuracy: 0.7397\n",
      "Epoch 75/100\n",
      "804/804 [==============================] - 3s 3ms/step - loss: 0.5369 - accuracy: 0.7388\n",
      "Epoch 76/100\n",
      "804/804 [==============================] - 3s 4ms/step - loss: 0.5371 - accuracy: 0.7387\n",
      "Epoch 77/100\n",
      "804/804 [==============================] - 3s 3ms/step - loss: 0.5373 - accuracy: 0.7375\n",
      "Epoch 78/100\n",
      "804/804 [==============================] - 3s 3ms/step - loss: 0.5357 - accuracy: 0.7393\n",
      "Epoch 79/100\n",
      "804/804 [==============================] - 3s 3ms/step - loss: 0.5360 - accuracy: 0.7385\n",
      "Epoch 80/100\n",
      "804/804 [==============================] - 3s 3ms/step - loss: 0.5364 - accuracy: 0.7395\n",
      "Epoch 81/100\n",
      "804/804 [==============================] - 3s 3ms/step - loss: 0.5364 - accuracy: 0.7386\n",
      "Epoch 82/100\n",
      "804/804 [==============================] - 3s 4ms/step - loss: 0.5371 - accuracy: 0.7393\n",
      "Epoch 83/100\n",
      "804/804 [==============================] - 3s 3ms/step - loss: 0.5362 - accuracy: 0.7385\n",
      "Epoch 84/100\n",
      "804/804 [==============================] - 3s 4ms/step - loss: 0.5363 - accuracy: 0.7395\n",
      "Epoch 85/100\n",
      "804/804 [==============================] - 3s 3ms/step - loss: 0.5366 - accuracy: 0.7400\n",
      "Epoch 86/100\n",
      "804/804 [==============================] - 3s 3ms/step - loss: 0.5362 - accuracy: 0.7390\n",
      "Epoch 87/100\n",
      "804/804 [==============================] - 3s 3ms/step - loss: 0.5361 - accuracy: 0.7396\n",
      "Epoch 88/100\n",
      "804/804 [==============================] - 3s 4ms/step - loss: 0.5363 - accuracy: 0.7382\n",
      "Epoch 89/100\n",
      "804/804 [==============================] - 3s 4ms/step - loss: 0.5354 - accuracy: 0.7386\n",
      "Epoch 90/100\n",
      "804/804 [==============================] - 3s 3ms/step - loss: 0.5362 - accuracy: 0.7395\n",
      "Epoch 91/100\n",
      "804/804 [==============================] - 3s 4ms/step - loss: 0.5366 - accuracy: 0.7378\n",
      "Epoch 92/100\n",
      "804/804 [==============================] - 3s 3ms/step - loss: 0.5353 - accuracy: 0.7388\n",
      "Epoch 93/100\n",
      "804/804 [==============================] - 3s 3ms/step - loss: 0.5366 - accuracy: 0.7396\n",
      "Epoch 94/100\n",
      "804/804 [==============================] - 3s 3ms/step - loss: 0.5359 - accuracy: 0.7398\n",
      "Epoch 95/100\n",
      "804/804 [==============================] - 3s 3ms/step - loss: 0.5353 - accuracy: 0.7397\n",
      "Epoch 96/100\n",
      "804/804 [==============================] - 3s 3ms/step - loss: 0.5350 - accuracy: 0.7381\n",
      "Epoch 97/100\n",
      "804/804 [==============================] - 3s 3ms/step - loss: 0.5355 - accuracy: 0.7382\n",
      "Epoch 98/100\n",
      "804/804 [==============================] - 3s 3ms/step - loss: 0.5354 - accuracy: 0.7400\n",
      "Epoch 99/100\n",
      "804/804 [==============================] - 3s 3ms/step - loss: 0.5352 - accuracy: 0.7396\n",
      "Epoch 100/100\n",
      "804/804 [==============================] - 3s 3ms/step - loss: 0.5348 - accuracy: 0.7401\n"
     ]
    }
   ],
   "source": [
    "# Fit the model using 100 epochs and the training data\n",
    "model_2 = batch_norm_model.fit(X_train_scaled, y_train, epochs=100) "
   ]
  },
  {
   "cell_type": "code",
   "execution_count": 48,
   "id": "b97d0c0a-83ed-4555-8962-419a89bfc30f",
   "metadata": {
    "tags": []
   },
   "outputs": [
    {
     "name": "stdout",
     "output_type": "stream",
     "text": [
      "268/268 - 1s - loss: 0.5516 - accuracy: 0.7299 - 749ms/epoch - 3ms/step\n"
     ]
    }
   ],
   "source": [
    "# Evaluate the model loss and accuracy metrics using the evaluate method and the test data\n",
    "model_loss_2, model_accuracy_2 = batch_norm_model.evaluate(X_test_scaled, y_test, verbose=2)"
   ]
  },
  {
   "cell_type": "code",
   "execution_count": 49,
   "id": "c3568c90-4a7a-4051-8325-7e5d1317ee5c",
   "metadata": {
    "tags": []
   },
   "outputs": [
    {
     "name": "stdout",
     "output_type": "stream",
     "text": [
      "                                             0\n",
      "Loss                                  0.551558\n",
      "Accuracy                              0.729913\n",
      "Hidden layers                                2\n",
      "Input Features                             116\n",
      "Output Neurons                               1\n",
      "Neurons in Hidden Layers1                   58\n",
      "Neurons in Hidden Layers2                   29\n",
      "Epochs                                      50\n",
      "Activation Hidden layer 1                 relu\n",
      "Activation Hidden layer 2                 relu\n",
      "Activation Output layer 1              sigmoid\n",
      "loss                       binary_crossentropy\n",
      "optimizer                                 adam\n",
      "metrics                               accuracy\n"
     ]
    }
   ],
   "source": [
    "# Display the model loss and accuracy results\n",
    "results_batch_norm_model_df = pd.DataFrame(\n",
    "                    data={\n",
    "                        'Loss'    : [model_loss_2], \n",
    "                        'Accuracy': [model_accuracy_2],\n",
    "                        'Hidden layers': 2,\n",
    "                        'Input Features':[number_input_features],\n",
    "                        'Output Neurons': [number_output_neurons],\n",
    "                        'Neurons in Hidden Layers1' : [hidden_nodes_layer1],\n",
    "                        'Neurons in Hidden Layers2' : [hidden_nodes_layer2],\n",
    "                        'Epochs'         : 50,\n",
    "                        'Activation Hidden layer 1': ['relu'],\n",
    "                        'Activation Hidden layer 2': ['relu'],\n",
    "                        'Activation Output layer 1': ['sigmoid'],\n",
    "                        'loss':['binary_crossentropy'],\n",
    "                        'optimizer':['adam'],\n",
    "                        'metrics':['accuracy']\n",
    "\n",
    "                        \n",
    "                    })\n",
    "\n",
    "print(results_batch_norm_model_df.T)"
   ]
  },
  {
   "cell_type": "code",
   "execution_count": 50,
   "id": "a01ddf7a-d579-40d6-9a34-2c0bb804d277",
   "metadata": {
    "tags": []
   },
   "outputs": [
    {
     "name": "stderr",
     "output_type": "stream",
     "text": [
      "C:\\Users\\prajw\\Anaconda3\\envs\\dev\\lib\\site-packages\\keras\\src\\engine\\training.py:3079: UserWarning: You are saving your model as an HDF5 file via `model.save()`. This file format is considered legacy. We recommend using instead the native Keras format, e.g. `model.save('my_model.keras')`.\n",
      "  saving_api.save_model(\n"
     ]
    }
   ],
   "source": [
    "# Set the file path where you want to save the model\n",
    "file_path = \"AlphabetSoup_BatchNorm.h5\"\n",
    "\n",
    "# .h5 for HDF5\n",
    "# Save the Keras model to an HDF5 file\n",
    "batch_norm_model.save(file_path)"
   ]
  },
  {
   "cell_type": "markdown",
   "id": "8b4ce7bf-2b36-4dc6-b8ec-3cd8f409f569",
   "metadata": {},
   "source": [
    "## Discussion"
   ]
  },
  {
   "cell_type": "markdown",
   "id": "f40e72bd-39dc-4ab3-a361-2364f91fc20c",
   "metadata": {},
   "source": [
    "After attempting Batch Normalization and Drop Out Regularization with an increased epoch of 100, (initially the epochs were 50) the highest accuracy achieved remained at 73%. This accuracy signifies that 1 out of 4 times, the model incorrectly classifies the outcome, either predicting a success when the company fails (false positive) or failing to fund a company that would have been a success (false negative).\n",
    "\n",
    "Despite these adjustments and extended training epochs, the model's performance plateaued, suggesting that the available data might not contain additional discernible patterns or information that could be effectively extracted through further alterations to the neural network architecture or training duration."
   ]
  }
 ],
 "metadata": {
  "kernelspec": {
   "display_name": "Python 3 (ipykernel)",
   "language": "python",
   "name": "python3"
  },
  "language_info": {
   "codemirror_mode": {
    "name": "ipython",
    "version": 3
   },
   "file_extension": ".py",
   "mimetype": "text/x-python",
   "name": "python",
   "nbconvert_exporter": "python",
   "pygments_lexer": "ipython3",
   "version": "3.10.12"
  }
 },
 "nbformat": 4,
 "nbformat_minor": 5
}
